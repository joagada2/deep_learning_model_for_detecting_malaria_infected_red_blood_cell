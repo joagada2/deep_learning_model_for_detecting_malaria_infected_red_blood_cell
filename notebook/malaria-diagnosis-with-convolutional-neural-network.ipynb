{
 "cells": [
  {
   "cell_type": "markdown",
   "id": "a724f74e",
   "metadata": {},
   "source": [
    "# CONVOLUTIONAL NURAL NETWORK FOR MALARIA DIAGNOSIS\n",
    "In this project, I shall train a convolutional neural network on images of 24958 malaria infected and uninfected cells with another 2600 cells to be used for testing. The goal is to have the deep learning model accept new cell of an undiagnosed patient and correctly predict if the patient is malaria infected or not. This project is an end to end Machine Learning (Deep Learning) which encompasses model training and deployment using with Flask.  "
   ]
  },
  {
   "cell_type": "code",
   "execution_count": 45,
   "id": "b783721f",
   "metadata": {},
   "outputs": [],
   "source": [
    "import os\n",
    "import pandas as pd\n",
    "import numpy as np\n",
    "import seaborn as sns\n",
    "import matplotlib.pyplot as plt\n",
    "from matplotlib.image import imread\n",
    "# Technically not necessary in newest versions of jupyter\n",
    "%matplotlib inline"
   ]
  },
  {
   "cell_type": "markdown",
   "id": "45046d93",
   "metadata": {},
   "source": [
    "## FILE STRUCTURE\n",
    "The images are organized into folders. The parent folder called cell_images contain 2 folders called test and train. The test folder has 2 other folders called parasitized and uninfected. The parasitized folder contain images of cells infected with malaria parasite while the uninfected folder also contain images of parasitized and uninfected cell. The same structure apply to the train folder. The structure is illustrated below"
   ]
  },
  {
   "cell_type": "code",
   "execution_count": 33,
   "id": "3d53b431",
   "metadata": {},
   "outputs": [
    {
     "data": {
      "text/plain": [
       "['cell_images']"
      ]
     },
     "execution_count": 33,
     "metadata": {},
     "output_type": "execute_result"
    }
   ],
   "source": [
    "os.listdir('..\\data')"
   ]
  },
  {
   "cell_type": "code",
   "execution_count": 35,
   "id": "d51a77be",
   "metadata": {},
   "outputs": [
    {
     "data": {
      "text/plain": [
       "['test', 'train']"
      ]
     },
     "execution_count": 35,
     "metadata": {},
     "output_type": "execute_result"
    }
   ],
   "source": [
    "os.listdir('..\\data\\cell_images')"
   ]
  },
  {
   "cell_type": "code",
   "execution_count": 37,
   "id": "7a73a8bd",
   "metadata": {},
   "outputs": [
    {
     "data": {
      "text/plain": [
       "['parasitized', 'uninfected']"
      ]
     },
     "execution_count": 37,
     "metadata": {},
     "output_type": "execute_result"
    }
   ],
   "source": [
    "os.listdir('..\\data\\cell_images/train')"
   ]
  },
  {
   "cell_type": "code",
   "execution_count": 38,
   "id": "5e72f28c",
   "metadata": {},
   "outputs": [
    {
     "data": {
      "text/plain": [
       "['parasitized', 'uninfected']"
      ]
     },
     "execution_count": 38,
     "metadata": {},
     "output_type": "execute_result"
    }
   ],
   "source": [
    "os.listdir('..\\data\\cell_images/test')"
   ]
  },
  {
   "cell_type": "markdown",
   "id": "323384a9",
   "metadata": {},
   "source": [
    "## EXPLORATORY DATA ANALYSIS"
   ]
  },
  {
   "cell_type": "markdown",
   "id": "2401b970",
   "metadata": {},
   "source": [
    "### Visualization of Infected Cell"
   ]
  },
  {
   "cell_type": "code",
   "execution_count": 50,
   "id": "e4497d1b",
   "metadata": {},
   "outputs": [
    {
     "data": {
      "text/plain": [
       "'C100P61ThinF_IMG_20150918_144348_cell_144.png'"
      ]
     },
     "execution_count": 50,
     "metadata": {},
     "output_type": "execute_result"
    }
   ],
   "source": [
    "infected_cell = os.listdir('..\\data\\cell_images/test/parasitized')[0]\n",
    "infected_cell"
   ]
  },
  {
   "cell_type": "code",
   "execution_count": 55,
   "id": "1e818420",
   "metadata": {},
   "outputs": [],
   "source": [
    "infected_cell = '..\\data\\cell_images/test/parasitized/C100P61ThinF_IMG_20150918_144348_cell_144.png'"
   ]
  },
  {
   "cell_type": "code",
   "execution_count": 56,
   "id": "a40cb81f",
   "metadata": {},
   "outputs": [
    {
     "data": {
      "text/plain": [
       "array([[[0., 0., 0.],\n",
       "        [0., 0., 0.],\n",
       "        [0., 0., 0.],\n",
       "        ...,\n",
       "        [0., 0., 0.],\n",
       "        [0., 0., 0.],\n",
       "        [0., 0., 0.]],\n",
       "\n",
       "       [[0., 0., 0.],\n",
       "        [0., 0., 0.],\n",
       "        [0., 0., 0.],\n",
       "        ...,\n",
       "        [0., 0., 0.],\n",
       "        [0., 0., 0.],\n",
       "        [0., 0., 0.]],\n",
       "\n",
       "       [[0., 0., 0.],\n",
       "        [0., 0., 0.],\n",
       "        [0., 0., 0.],\n",
       "        ...,\n",
       "        [0., 0., 0.],\n",
       "        [0., 0., 0.],\n",
       "        [0., 0., 0.]],\n",
       "\n",
       "       ...,\n",
       "\n",
       "       [[0., 0., 0.],\n",
       "        [0., 0., 0.],\n",
       "        [0., 0., 0.],\n",
       "        ...,\n",
       "        [0., 0., 0.],\n",
       "        [0., 0., 0.],\n",
       "        [0., 0., 0.]],\n",
       "\n",
       "       [[0., 0., 0.],\n",
       "        [0., 0., 0.],\n",
       "        [0., 0., 0.],\n",
       "        ...,\n",
       "        [0., 0., 0.],\n",
       "        [0., 0., 0.],\n",
       "        [0., 0., 0.]],\n",
       "\n",
       "       [[0., 0., 0.],\n",
       "        [0., 0., 0.],\n",
       "        [0., 0., 0.],\n",
       "        ...,\n",
       "        [0., 0., 0.],\n",
       "        [0., 0., 0.],\n",
       "        [0., 0., 0.]]], dtype=float32)"
      ]
     },
     "execution_count": 56,
     "metadata": {},
     "output_type": "execute_result"
    }
   ],
   "source": [
    "infected_cell = imread(infected_cell)\n",
    "infected_cell"
   ]
  },
  {
   "cell_type": "code",
   "execution_count": 57,
   "id": "e68bcb0a",
   "metadata": {},
   "outputs": [
    {
     "data": {
      "text/plain": [
       "<matplotlib.image.AxesImage at 0x1dd8e9a63a0>"
      ]
     },
     "execution_count": 57,
     "metadata": {},
     "output_type": "execute_result"
    },
    {
     "data": {
      "image/png": "[encoded data removed]",
      "text/plain": [
       "<Figure size 432x288 with 1 Axes>"
      ]
     },
     "metadata": {
      "needs_background": "light"
     },
     "output_type": "display_data"
    }
   ],
   "source": [
    "plt.imshow(infected_cell)"
   ]
  },
  {
   "cell_type": "code",
   "execution_count": 58,
   "id": "85005952",
   "metadata": {},
   "outputs": [
    {
     "data": {
      "text/plain": [
       "(136, 133, 3)"
      ]
     },
     "execution_count": 58,
     "metadata": {},
     "output_type": "execute_result"
    }
   ],
   "source": [
    "infected_cell.shape"
   ]
  },
  {
   "cell_type": "markdown",
   "id": "7bb3993f",
   "metadata": {},
   "source": [
    "### Visualization of uninfected cell"
   ]
  },
  {
   "cell_type": "code",
   "execution_count": 59,
   "id": "e05a68e9",
   "metadata": {},
   "outputs": [
    {
     "data": {
      "text/plain": [
       "'C100P61ThinF_IMG_20150918_144104_cell_128.png'"
      ]
     },
     "execution_count": 59,
     "metadata": {},
     "output_type": "execute_result"
    }
   ],
   "source": [
    "uninfected_cell = os.listdir('..\\data\\cell_images/train/uninfected')[0]\n",
    "uninfected_cell"
   ]
  },
  {
   "cell_type": "code",
   "execution_count": 62,
   "id": "07765a18",
   "metadata": {},
   "outputs": [],
   "source": [
    "uninfected_cell = '..\\data\\cell_images/train/uninfected/C100P61ThinF_IMG_20150918_144104_cell_128.png'"
   ]
  },
  {
   "cell_type": "code",
   "execution_count": 63,
   "id": "61381ba8",
   "metadata": {},
   "outputs": [
    {
     "data": {
      "text/plain": [
       "array([[[0., 0., 0.],\n",
       "        [0., 0., 0.],\n",
       "        [0., 0., 0.],\n",
       "        ...,\n",
       "        [0., 0., 0.],\n",
       "        [0., 0., 0.],\n",
       "        [0., 0., 0.]],\n",
       "\n",
       "       [[0., 0., 0.],\n",
       "        [0., 0., 0.],\n",
       "        [0., 0., 0.],\n",
       "        ...,\n",
       "        [0., 0., 0.],\n",
       "        [0., 0., 0.],\n",
       "        [0., 0., 0.]],\n",
       "\n",
       "       [[0., 0., 0.],\n",
       "        [0., 0., 0.],\n",
       "        [0., 0., 0.],\n",
       "        ...,\n",
       "        [0., 0., 0.],\n",
       "        [0., 0., 0.],\n",
       "        [0., 0., 0.]],\n",
       "\n",
       "       ...,\n",
       "\n",
       "       [[0., 0., 0.],\n",
       "        [0., 0., 0.],\n",
       "        [0., 0., 0.],\n",
       "        ...,\n",
       "        [0., 0., 0.],\n",
       "        [0., 0., 0.],\n",
       "        [0., 0., 0.]],\n",
       "\n",
       "       [[0., 0., 0.],\n",
       "        [0., 0., 0.],\n",
       "        [0., 0., 0.],\n",
       "        ...,\n",
       "        [0., 0., 0.],\n",
       "        [0., 0., 0.],\n",
       "        [0., 0., 0.]],\n",
       "\n",
       "       [[0., 0., 0.],\n",
       "        [0., 0., 0.],\n",
       "        [0., 0., 0.],\n",
       "        ...,\n",
       "        [0., 0., 0.],\n",
       "        [0., 0., 0.],\n",
       "        [0., 0., 0.]]], dtype=float32)"
      ]
     },
     "execution_count": 63,
     "metadata": {},
     "output_type": "execute_result"
    }
   ],
   "source": [
    "uninfected_cell = imread(uninfected_cell)\n",
    "uninfected_cell"
   ]
  },
  {
   "cell_type": "code",
   "execution_count": 64,
   "id": "79f73733",
   "metadata": {},
   "outputs": [
    {
     "data": {
      "text/plain": [
       "<matplotlib.image.AxesImage at 0x1dd8eb597c0>"
      ]
     },
     "execution_count": 64,
     "metadata": {},
     "output_type": "execute_result"
    },
    {
     "data": {
      "image/png": "[encoded data removed]",
      "text/plain": [
       "<Figure size 432x288 with 1 Axes>"
      ]
     },
     "metadata": {
      "needs_background": "light"
     },
     "output_type": "display_data"
    }
   ],
   "source": [
    "plt.imshow(uninfected_cell)"
   ]
  },
  {
   "cell_type": "code",
   "execution_count": 65,
   "id": "dc246994",
   "metadata": {},
   "outputs": [
    {
     "data": {
      "text/plain": [
       "(139, 160, 3)"
      ]
     },
     "execution_count": 65,
     "metadata": {},
     "output_type": "execute_result"
    }
   ],
   "source": [
    "uninfected_cell.shape"
   ]
  },
  {
   "cell_type": "markdown",
   "id": "6c372991",
   "metadata": {},
   "source": [
    "### Number of images in each directory"
   ]
  },
  {
   "cell_type": "code",
   "execution_count": 67,
   "id": "e4979b44",
   "metadata": {},
   "outputs": [
    {
     "data": {
      "text/plain": [
       "12480"
      ]
     },
     "execution_count": 67,
     "metadata": {},
     "output_type": "execute_result"
    }
   ],
   "source": [
    "len(os.listdir('..\\data\\cell_images/train/parasitized'))"
   ]
  },
  {
   "cell_type": "code",
   "execution_count": 68,
   "id": "127a9821",
   "metadata": {},
   "outputs": [
    {
     "data": {
      "text/plain": [
       "1300"
      ]
     },
     "execution_count": 68,
     "metadata": {},
     "output_type": "execute_result"
    }
   ],
   "source": [
    "len(os.listdir('..\\data\\cell_images/test/parasitized'))"
   ]
  },
  {
   "cell_type": "code",
   "execution_count": 69,
   "id": "cc772a8c",
   "metadata": {},
   "outputs": [
    {
     "data": {
      "text/plain": [
       "12480"
      ]
     },
     "execution_count": 69,
     "metadata": {},
     "output_type": "execute_result"
    }
   ],
   "source": [
    "len(os.listdir('../data\\cell_images/train/uninfected'))"
   ]
  },
  {
   "cell_type": "code",
   "execution_count": 70,
   "id": "2e28377b",
   "metadata": {},
   "outputs": [
    {
     "data": {
      "text/plain": [
       "1300"
      ]
     },
     "execution_count": 70,
     "metadata": {},
     "output_type": "execute_result"
    }
   ],
   "source": [
    "len(os.listdir('..\\data\\cell_images/test/uninfected'))"
   ]
  },
  {
   "cell_type": "markdown",
   "id": "3149fb02",
   "metadata": {},
   "source": [
    "### Observe that the images are of different dimensions. We find the average dimension of the images and use that as input dimension to our model."
   ]
  },
  {
   "cell_type": "code",
   "execution_count": 71,
   "id": "cac1346d",
   "metadata": {},
   "outputs": [
    {
     "data": {
      "text/plain": [
       "(136, 133, 3)"
      ]
     },
     "execution_count": 71,
     "metadata": {},
     "output_type": "execute_result"
    }
   ],
   "source": [
    "infected_cell.shape"
   ]
  },
  {
   "cell_type": "code",
   "execution_count": 72,
   "id": "29fbd27c",
   "metadata": {},
   "outputs": [
    {
     "data": {
      "text/plain": [
       "(139, 160, 3)"
      ]
     },
     "execution_count": 72,
     "metadata": {},
     "output_type": "execute_result"
    }
   ],
   "source": [
    "uninfected_cell.shape"
   ]
  },
  {
   "cell_type": "code",
   "execution_count": 74,
   "id": "ab396974",
   "metadata": {},
   "outputs": [
    {
     "data": {
      "text/plain": [
       "['C100P61ThinF_IMG_20150918_144104_cell_34.png',\n",
       " 'C100P61ThinF_IMG_20150918_144348_cell_108.png',\n",
       " 'C100P61ThinF_IMG_20150918_145042_cell_33.png',\n",
       " 'C100P61ThinF_IMG_20150918_145422_cell_138.png',\n",
       " 'C100P61ThinF_IMG_20150918_145938_cell_145.png',\n",
       " 'C100P61ThinF_IMG_20150918_150041_cell_4.png',\n",
       " 'C100P61ThinF_IMG_20150918_150041_cell_67.png',\n",
       " 'C101P62ThinF_IMG_20150918_151149_cell_28.png',\n",
       " 'C101P62ThinF_IMG_20150918_151149_cell_43.png',\n",
       " 'C101P62ThinF_IMG_20150918_151335_cell_26.png',\n",
       " 'C101P62ThinF_IMG_20150918_151942_cell_39.png',\n",
       " 'C101P62ThinF_IMG_20150923_170344_cell_66.png',\n",
       " 'C102P63ThinF_IMG_20150918_161826_cell_133.png',\n",
       " 'C102P63ThinF_IMG_20150918_161826_cell_144.png',\n",
       " 'C102P63ThinF_IMG_20150918_162155_cell_5.png',\n",
       " 'C102P63ThinF_IMG_20150918_162155_cell_66.png',\n",
       " 'C102P63ThinF_IMG_20150918_162511_cell_56.png',\n",
       " 'C103P64ThinF_IMG_20150918_164331_cell_160.png',\n",
       " 'C103P64ThinF_IMG_20150918_164331_cell_72.png',\n",
       " 'C103P64ThinF_IMG_20150918_164553_cell_163.png',\n",
       " 'C103P64ThinF_IMG_20150918_165016_cell_70.png',\n",
       " 'C103P64ThinF_IMG_20150918_165125_cell_86.png',\n",
       " 'C103P64ThinF_IMG_20150918_165510_cell_98.png',\n",
       " 'C104P65ThinF_IMG_20150918_172537_cell_33.png',\n",
       " 'C104P65ThinF_IMG_20150918_172639_cell_163.png',\n",
       " 'C104P65ThinF_IMG_20150918_172639_cell_5.png',\n",
       " 'C105P66ThinF_IMG_20150924_094800_cell_11.png',\n",
       " 'C105P66ThinF_IMG_20150924_094944_cell_97.png',\n",
       " 'C105P66ThinF_IMG_20150924_095633_cell_106.png',\n",
       " 'C105P66ThinF_IMG_20150924_095716_cell_2.png',\n",
       " 'C105P66ThinF_IMG_20150924_095716_cell_8.png',\n",
       " 'C105P66ThinF_IMG_20150924_100655_cell_14.png',\n",
       " 'C106P67ThinF_IMG_20150924_102413_cell_85.png',\n",
       " 'C106P67ThinF_IMG_20150924_103245_cell_132.png',\n",
       " 'C106P67ThinF_IMG_20150924_103245_cell_24.png',\n",
       " 'C106P67ThinF_IMG_20150924_103245_cell_96.png',\n",
       " 'C106P67ThinF_IMG_20150924_103636_cell_5.png',\n",
       " 'C106P67ThinF_IMG_20150924_103811_cell_15.png',\n",
       " 'C106P67ThinF_IMG_20150924_103811_cell_32.png',\n",
       " 'C106P67ThinF_IMG_20150924_104044_cell_121.png',\n",
       " 'C107P68ThinF_IMG_20150924_221632_cell_45.png',\n",
       " 'C107P68ThinF_IMG_20150924_221909_cell_134.png',\n",
       " 'C107P68ThinF_IMG_20150924_221909_cell_83.png',\n",
       " 'C107P68ThinF_IMG_20150924_221909_cell_91.png',\n",
       " 'C107P68ThinF_IMG_20150924_222233_cell_127.png',\n",
       " 'C107P68ThinF_IMG_20150924_222415_cell_23.png',\n",
       " 'C107P68ThinF_IMG_20150924_222415_cell_41.png',\n",
       " 'C107P68ThinF_IMG_20150924_222415_cell_51.png',\n",
       " 'C107P68ThinF_IMG_20150924_222535_cell_53.png',\n",
       " 'C107P68ThinF_IMG_20150924_222535_cell_69.png',\n",
       " 'C107P68ThinF_IMG_20150924_222630_cell_39.png',\n",
       " 'C108P69ThinF_IMG_20150924_223834_cell_140.png',\n",
       " 'C108P69ThinF_IMG_20150924_223834_cell_195.png',\n",
       " 'C108P69ThinF_IMG_20150924_224038_cell_8.png',\n",
       " 'C108P69ThinF_IMG_20150924_224909_cell_165.png',\n",
       " 'C108P69ThinF_IMG_20150924_224909_cell_40.png',\n",
       " 'C108P69ThinF_IMG_20150924_225004_cell_214.png',\n",
       " 'C108P69ThinF_IMG_20150924_225511_cell_74.png',\n",
       " 'C109P70ThinF_IMG_20150930_102716_cell_10.png',\n",
       " 'C109P70ThinF_IMG_20150930_102716_cell_33.png',\n",
       " 'C109P70ThinF_IMG_20150930_102944_cell_60.png',\n",
       " 'C109P70ThinF_IMG_20150930_103113_cell_112.png',\n",
       " 'C109P70ThinF_IMG_20150930_103113_cell_27.png',\n",
       " 'C109P70ThinF_IMG_20150930_103113_cell_28.png',\n",
       " 'C109P70ThinF_IMG_20150930_103214_cell_151.png',\n",
       " 'C110P71ThinF_IMG_20150930_105559_cell_109.png',\n",
       " 'C110P71ThinF_IMG_20150930_105559_cell_31.png',\n",
       " 'C110P71ThinF_IMG_20150930_105559_cell_34.png',\n",
       " 'C110P71ThinF_IMG_20150930_105729_cell_129.png',\n",
       " 'C110P71ThinF_IMG_20150930_105729_cell_132.png',\n",
       " 'C110P71ThinF_IMG_20150930_105925_cell_153.png',\n",
       " 'C110P71ThinF_IMG_20150930_105925_cell_57.png',\n",
       " 'C110P71ThinF_IMG_20150930_110404_cell_43.png',\n",
       " 'C111P72ThinF_IMG_20150930_112430_cell_60.png',\n",
       " 'C111P72ThinF_IMG_20150930_112609_cell_151.png',\n",
       " 'C111P72ThinF_IMG_20150930_112827_cell_117.png',\n",
       " 'C111P72ThinF_IMG_20150930_113049_cell_109.png',\n",
       " 'C111P72ThinF_IMG_20150930_113210_cell_5.png',\n",
       " 'C112P73ThinF_IMG_20150930_131401_cell_162.png',\n",
       " 'C112P73ThinF_IMG_20150930_131605_cell_13.png',\n",
       " 'C112P73ThinF_IMG_20150930_131659_cell_64.png',\n",
       " 'C112P73ThinF_IMG_20150930_131659_cell_69.png',\n",
       " 'C112P73ThinF_IMG_20150930_131900_cell_159.png',\n",
       " 'C112P73ThinF_IMG_20150930_131900_cell_55.png',\n",
       " 'C113P74ThinF_IMG_20150930_134355_cell_155.png',\n",
       " 'C113P74ThinF_IMG_20150930_134355_cell_35.png',\n",
       " 'C113P74ThinF_IMG_20150930_134429_cell_60.png',\n",
       " 'C113P74ThinF_IMG_20150930_134614_cell_107.png',\n",
       " 'C113P74ThinF_IMG_20150930_140646_cell_36.png',\n",
       " 'C113P74ThinF_IMG_20150930_140646_cell_5.png',\n",
       " 'C114P75ThinF_IMG_20150930_150013_cell_183.png',\n",
       " 'C114P75ThinF_IMG_20150930_150057_cell_135.png',\n",
       " 'C114P75ThinF_IMG_20150930_150057_cell_61.png',\n",
       " 'C114P75ThinF_IMG_20150930_150145_cell_1.png',\n",
       " 'C114P75ThinF_IMG_20150930_150833_cell_63.png',\n",
       " 'C114P75ThinF_IMG_20150930_151150_cell_157.png',\n",
       " 'C115P76ThinF_IMG_20150930_161825_cell_117.png',\n",
       " 'C115P76ThinF_IMG_20150930_162315_cell_105.png',\n",
       " 'C115P76ThinF_IMG_20150930_162315_cell_167.png',\n",
       " 'C115P76ThinF_IMG_20150930_163018_cell_167.png',\n",
       " 'C115P76ThinF_IMG_20150930_163156_cell_192.png',\n",
       " 'C116P77ThinF_IMG_20150930_171635_cell_63.png',\n",
       " 'C116P77ThinF_IMG_20150930_171809_cell_35.png',\n",
       " 'C116P77ThinF_IMG_20150930_171844_cell_56.png',\n",
       " 'C116P77ThinF_IMG_20150930_171954_cell_45.png',\n",
       " 'C117P78ThinF_IMG_20150930_214138_cell_43.png',\n",
       " 'C117P78ThinF_IMG_20150930_214138_cell_54.png',\n",
       " 'C117P78ThinF_IMG_20150930_214511_cell_62.png',\n",
       " 'C117P78ThinF_IMG_20150930_214629_cell_1.png',\n",
       " 'C117P78ThinF_IMG_20150930_220616_cell_63.png',\n",
       " 'C117P78ThinF_IMG_20150930_221812_cell_51.png',\n",
       " 'C117P78ThinF_IMG_20150930_221812_cell_60.png',\n",
       " 'C117P78ThinF_IMG_20150930_221812_cell_8.png',\n",
       " 'C117P78ThinF_IMG_20150930_222228_cell_40.png',\n",
       " 'C118P79ThinF_IMG_20151002_104831_cell_28.png',\n",
       " 'C118P79ThinF_IMG_20151002_104831_cell_63.png',\n",
       " 'C118P79ThinF_IMG_20151002_105018_cell_59.png',\n",
       " 'C118P79ThinF_IMG_20151002_105018_cell_67.png',\n",
       " 'C118P79ThinF_IMG_20151002_105018_cell_70.png',\n",
       " 'C118P79ThinF_IMG_20151002_105735_cell_33.png',\n",
       " 'C118P79ThinF_IMG_20151002_110725_cell_107.png',\n",
       " 'C118P79ThinF_IMG_20151002_110725_cell_58.png',\n",
       " 'C118P79ThinF_IMG_20151002_110834_cell_53.png',\n",
       " 'C119P80ThinF_IMG_20151002_124345_cell_41.png',\n",
       " 'C119P80ThinF_IMG_20151002_124345_cell_93.png',\n",
       " 'C119P80ThinF_IMG_20151002_124425_cell_86.png',\n",
       " 'C120P81ThinF_IMG_20151002_125443_cell_81.png',\n",
       " 'C120P81ThinF_IMG_20151002_130407_cell_177.png',\n",
       " 'C120P81ThinF_IMG_20151002_130715_cell_128.png',\n",
       " 'C120P81ThinF_IMG_20151002_130715_cell_6.png',\n",
       " 'C120P81ThinF_IMG_20151002_130918_cell_146.png',\n",
       " 'C120P81ThinF_IMG_20151002_130918_cell_43.png',\n",
       " 'C120P81ThinF_IMG_20151002_130918_cell_45.png',\n",
       " 'C121P82ThinF_IMG_20151002_132926_cell_1.png',\n",
       " 'C121P82ThinF_IMG_20151002_132926_cell_35.png',\n",
       " 'C121P82ThinF_IMG_20151002_133001_cell_7.png',\n",
       " 'C121P82ThinF_IMG_20151002_133158_cell_18.png',\n",
       " 'C121P82ThinF_IMG_20151002_133427_cell_60.png',\n",
       " 'C121P82ThinF_IMG_20151002_133540_cell_14.png',\n",
       " 'C121P82ThinF_IMG_20151002_133631_cell_34.png',\n",
       " 'C121P82ThinF_IMG_20151002_135054_cell_87.png',\n",
       " 'C121P82ThinF_IMG_20151002_135237_cell_89.png',\n",
       " 'C122P83ThinF_IMG_20151002_144341_cell_72.png',\n",
       " 'C122P83ThinF_IMG_20151002_144610_cell_100.png',\n",
       " 'C122P83ThinF_IMG_20151002_144610_cell_26.png',\n",
       " 'C122P83ThinF_IMG_20151002_145014_cell_80.png',\n",
       " 'C122P83ThinF_IMG_20151002_145330_cell_150.png',\n",
       " 'C122P83ThinF_IMG_20151002_145330_cell_41.png',\n",
       " 'C122P83ThinF_IMG_20151002_145415_cell_110.png',\n",
       " 'C122P83ThinF_IMG_20151002_145415_cell_95.png',\n",
       " 'C122P83ThinF_IMG_20151002_145918_cell_18.png',\n",
       " 'C122P83ThinF_IMG_20151002_145918_cell_95.png',\n",
       " 'C123P84ThinF_IMG_20151002_151432_cell_130.png',\n",
       " 'C123P84ThinF_IMG_20151002_151432_cell_150.png',\n",
       " 'C123P84ThinF_IMG_20151002_152144_cell_10.png',\n",
       " 'C123P84ThinF_IMG_20151002_152144_cell_49.png',\n",
       " 'C123P84ThinF_IMG_20151002_152144_cell_73.png',\n",
       " 'C124P85ThinF_IMG_20151002_153825_cell_19.png',\n",
       " 'C124P85ThinF_IMG_20151002_153825_cell_26.png',\n",
       " 'C124P85ThinF_IMG_20151002_154502_cell_3.png',\n",
       " 'C124P85ThinF_IMG_20151002_154808_cell_40.png',\n",
       " 'C124P85ThinF_IMG_20151002_154808_cell_77.png',\n",
       " 'C124P85ThinF_IMG_20151002_154846_cell_32.png',\n",
       " 'C124P85ThinF_IMG_20151002_155026_cell_57.png',\n",
       " 'C124P85ThinF_IMG_20151002_155101_cell_140.png',\n",
       " 'C124P85ThinF_IMG_20151002_155101_cell_78.png',\n",
       " 'C124P85ThinF_IMG_20151002_155101_cell_90.png',\n",
       " 'C125P86ThinF_IMG_20151004_102013_cell_37.png',\n",
       " 'C125P86ThinF_IMG_20151004_102013_cell_57.png',\n",
       " 'C125P86ThinF_IMG_20151004_102053_cell_100.png',\n",
       " 'C125P86ThinF_IMG_20151004_102053_cell_76.png',\n",
       " 'C125P86ThinF_IMG_20151004_102132_cell_7.png',\n",
       " 'C125P86ThinF_IMG_20151004_102205_cell_71.png',\n",
       " 'C125P86ThinF_IMG_20151004_102619_cell_58.png',\n",
       " 'C126P87ThinF_IMG_20151004_104441_cell_64.png',\n",
       " 'C126P87ThinF_IMG_20151004_104623_cell_43.png',\n",
       " 'C126P87ThinF_IMG_20151004_105100_cell_91.png',\n",
       " 'C126P87ThinF_IMG_20151004_105234_cell_61.png',\n",
       " 'C126P87ThinF_IMG_20151004_105342_cell_102.png',\n",
       " 'C127P88ThinF_IMG_20151004_111651_cell_21.png',\n",
       " 'C127P88ThinF_IMG_20151004_111651_cell_68.png',\n",
       " 'C127P88ThinF_IMG_20151004_111755_cell_11.png',\n",
       " 'C127P88ThinF_IMG_20151004_111755_cell_77.png',\n",
       " 'C127P88ThinF_IMG_20151004_112301_cell_79.png',\n",
       " 'C127P88ThinF_IMG_20151004_112418_cell_111.png',\n",
       " 'C127P88ThinF_IMG_20151004_112418_cell_99.png',\n",
       " 'C128P89ThinF_IMG_20151004_130810_cell_115.png',\n",
       " 'C128P89ThinF_IMG_20151004_131030_cell_123.png',\n",
       " 'C128P89ThinF_IMG_20151004_131129_cell_21.png',\n",
       " 'C128P89ThinF_IMG_20151004_131231_cell_84.png',\n",
       " 'C128P89ThinF_IMG_20151004_131632_cell_65.png',\n",
       " 'C128P89ThinF_IMG_20151004_131753_cell_1.png',\n",
       " 'C129P90ThinF_IMG_20151004_133244_cell_49.png',\n",
       " 'C129P90ThinF_IMG_20151004_133329_cell_71.png',\n",
       " 'C129P90ThinF_IMG_20151004_133421_cell_77.png',\n",
       " 'C129P90ThinF_IMG_20151004_133538_cell_41.png',\n",
       " 'C129P90ThinF_IMG_20151004_133538_cell_48.png',\n",
       " 'C129P90ThinF_IMG_20151004_133703_cell_11.png',\n",
       " 'C129P90ThinF_IMG_20151004_133703_cell_36.png',\n",
       " 'C129P90ThinF_IMG_20151004_133703_cell_67.png',\n",
       " 'C129P90ThinF_IMG_20151004_134306_cell_78.png',\n",
       " 'C12NThinF_IMG_20150614_124244_cell_64.png',\n",
       " 'C12NThinF_IMG_20150614_124301_cell_10.png',\n",
       " 'C12NThinF_IMG_20150614_125703_cell_48.png',\n",
       " 'C12NThinF_IMG_20150614_125703_cell_71.png',\n",
       " 'C12NThinF_IMG_20150614_125741_cell_101.png',\n",
       " 'C12NThinF_IMG_20150614_125741_cell_155.png',\n",
       " 'C12NThinF_IMG_20150614_125741_cell_39.png',\n",
       " 'C130P91ThinF_IMG_20151004_141428_cell_60.png',\n",
       " 'C130P91ThinF_IMG_20151004_142951_cell_32.png',\n",
       " 'C131P92ThinF_IMG_20151004_145224_cell_5.png',\n",
       " 'C131P92ThinF_IMG_20151004_145224_cell_88.png',\n",
       " 'C131P92ThinF_IMG_20151004_145410_cell_32.png',\n",
       " 'C131P92ThinF_IMG_20151004_150208_cell_77.png',\n",
       " 'C131P92ThinF_IMG_20151004_150208_cell_79.png',\n",
       " 'C132P93ThinF_IMG_20151004_151811_cell_78.png',\n",
       " 'C132P93ThinF_IMG_20151004_152045_cell_20.png',\n",
       " 'C132P93ThinF_IMG_20151004_152045_cell_53.png',\n",
       " 'C132P93ThinF_IMG_20151004_152257_cell_15.png',\n",
       " 'C133P94ThinF_IMG_20151004_154351_cell_69.png',\n",
       " 'C133P94ThinF_IMG_20151004_154512_cell_84.png',\n",
       " 'C133P94ThinF_IMG_20151004_154919_cell_30.png',\n",
       " 'C133P94ThinF_IMG_20151004_154919_cell_57.png',\n",
       " 'C134P95ThinF_IMG_20151005_121048_cell_65.png',\n",
       " 'C134P95ThinF_IMG_20151005_121343_cell_106.png',\n",
       " 'C134P95ThinF_IMG_20151005_121343_cell_86.png',\n",
       " 'C134P95ThinF_IMG_20151005_121425_cell_47.png',\n",
       " 'C134P95ThinF_IMG_20151005_121425_cell_5.png',\n",
       " 'C134P95ThinF_IMG_20151005_121554_cell_16.png',\n",
       " 'C134P95ThinF_IMG_20151005_121554_cell_60.png',\n",
       " 'C134P95ThinF_IMG_20151005_121834_cell_7.png',\n",
       " 'C134P95ThinF_IMG_20151005_121952_cell_111.png',\n",
       " 'C134P95ThinF_IMG_20151005_121952_cell_7.png',\n",
       " 'C134P95ThinF_IMG_20151005_122552_cell_25.png',\n",
       " 'C134P95ThinF_IMG_20151005_122552_cell_95.png',\n",
       " 'C135P96ThinF_IMG_20151005_123715_cell_121.png',\n",
       " 'C135P96ThinF_IMG_20151005_123715_cell_17.png',\n",
       " 'C135P96ThinF_IMG_20151005_123857_cell_129.png',\n",
       " 'C135P96ThinF_IMG_20151005_124031_cell_72.png',\n",
       " 'C135P96ThinF_IMG_20151005_124204_cell_68.png',\n",
       " 'C135P96ThinF_IMG_20151005_124359_cell_44.png',\n",
       " 'C135P96ThinF_IMG_20151005_124444_cell_108.png',\n",
       " 'C136P97ThinF_IMG_20151005_140538_cell_70.png',\n",
       " 'C136P97ThinF_IMG_20151005_140646_cell_39.png',\n",
       " 'C136P97ThinF_IMG_20151005_141803_cell_1.png',\n",
       " 'C136P97ThinF_IMG_20151005_141803_cell_18.png',\n",
       " 'C136P97ThinF_IMG_20151005_141803_cell_38.png',\n",
       " 'C136P97ThinF_IMG_20151005_141946_cell_53.png',\n",
       " 'C136P97ThinF_IMG_20151005_142437_cell_29.png',\n",
       " 'C136P97ThinF_IMG_20151005_142437_cell_31.png',\n",
       " 'C136P97ThinF_IMG_20151005_144727_cell_84.png',\n",
       " 'C137P98ThinF_IMG_20151005_155704_cell_22.png',\n",
       " 'C137P98ThinF_IMG_20151005_160256_cell_12.png',\n",
       " 'C137P98ThinF_IMG_20151005_161859_cell_30.png',\n",
       " 'C137P98ThinF_IMG_20151005_162010_cell_20.png',\n",
       " 'C137P98ThinF_IMG_20151005_162010_cell_47.png',\n",
       " 'C137P98ThinF_IMG_20151005_163251_cell_12.png',\n",
       " 'C138P99ThinF_IMG_20151005_170905_cell_23.png',\n",
       " 'C138P99ThinF_IMG_20151005_172849_cell_119.png',\n",
       " 'C138P99ThinF_IMG_20151005_172849_cell_90.png',\n",
       " 'C138P99ThinF_IMG_20151005_173241_cell_66.png',\n",
       " 'C139P100ThinF_IMG_20151005_182257_cell_39.png',\n",
       " 'C139P100ThinF_IMG_20151005_182257_cell_50.png',\n",
       " 'C139P100ThinF_IMG_20151005_182527_cell_93.png',\n",
       " 'C139P100ThinF_IMG_20151005_182822_cell_105.png',\n",
       " 'C139P100ThinF_IMG_20151005_183338_cell_78.png',\n",
       " 'C139P100ThinF_IMG_20151005_183338_cell_96.png',\n",
       " 'C139P100ThinF_IMG_20151005_183521_cell_58.png',\n",
       " 'C13NThinF_IMG_20150614_131417_cell_30.png',\n",
       " 'C13NThinF_IMG_20150614_131417_cell_62.png',\n",
       " 'C13NThinF_IMG_20150614_131529_cell_34.png',\n",
       " 'C13NThinF_IMG_20150614_131529_cell_38.png',\n",
       " 'C13NThinF_IMG_20150614_131553_cell_244.png',\n",
       " 'C13NThinF_IMG_20150614_131617_cell_101.png',\n",
       " 'C13NThinF_IMG_20150614_131617_cell_3.png',\n",
       " 'C140P101ThinF_IMG_20151005_205922_cell_131.png',\n",
       " 'C140P101ThinF_IMG_20151005_205922_cell_7.png',\n",
       " 'C140P101ThinF_IMG_20151005_211530_cell_126.png',\n",
       " 'C140P101ThinF_IMG_20151005_211735_cell_87.png',\n",
       " 'C141P102ThinF_IMG_20151005_214615_cell_146.png',\n",
       " 'C141P102ThinF_IMG_20151005_215711_cell_40.png',\n",
       " 'C141P102ThinF_IMG_20151005_215906_cell_29.png',\n",
       " 'C141P102ThinF_IMG_20151005_215906_cell_94.png',\n",
       " 'C142P103ThinF_IMG_20151005_221900_cell_117.png',\n",
       " 'C142P103ThinF_IMG_20151005_221900_cell_126.png',\n",
       " 'C142P103ThinF_IMG_20151005_222255_cell_69.png',\n",
       " 'C142P103ThinF_IMG_20151005_222255_cell_88.png',\n",
       " 'C142P103ThinF_IMG_20151005_223257_cell_139.png',\n",
       " 'C143P104ThinF_IMG_20151005_225746_cell_115.png',\n",
       " 'C143P104ThinF_IMG_20151005_225746_cell_167.png',\n",
       " 'C143P104ThinF_IMG_20151005_225746_cell_48.png',\n",
       " 'C143P104ThinF_IMG_20151005_225746_cell_92.png',\n",
       " 'C143P104ThinF_IMG_20151005_230100_cell_73.png',\n",
       " 'C144P105ThinF_IMG_20151015_155149_cell_222.png',\n",
       " 'C144P105ThinF_IMG_20151015_163142_cell_206.png',\n",
       " 'C144P105ThinF_IMG_20151015_163142_cell_90.png',\n",
       " 'C144P105ThinF_IMG_20151015_163432_cell_129.png',\n",
       " 'C144P105ThinF_IMG_20151015_163432_cell_69.png',\n",
       " 'C145P106ThinF_IMG_20151016_154309_cell_71.png',\n",
       " 'C145P106ThinF_IMG_20151016_154309_cell_82.png',\n",
       " 'C145P106ThinF_IMG_20151016_154641_cell_104.png',\n",
       " 'C145P106ThinF_IMG_20151016_154719_cell_120.png',\n",
       " 'C145P106ThinF_IMG_20151016_154756_cell_81.png',\n",
       " 'C145P106ThinF_IMG_20151016_154844_cell_45.png',\n",
       " 'C145P106ThinF_IMG_20151016_155051_cell_142.png',\n",
       " 'C145P106ThinF_IMG_20151016_155051_cell_67.png',\n",
       " 'C146P107ThinF_IMG_20151018_135703_cell_35.png',\n",
       " 'C146P107ThinF_IMG_20151018_140044_cell_136.png',\n",
       " 'C146P107ThinF_IMG_20151018_140342_cell_58.png',\n",
       " 'C146P107ThinF_IMG_20151018_140342_cell_87.png',\n",
       " 'C146P107ThinF_IMG_20151018_140439_cell_63.png',\n",
       " 'C147P108ThinF_IMG_20151115_092605_cell_22.png',\n",
       " 'C147P108ThinF_IMG_20151115_092605_cell_59.png',\n",
       " 'C147P108ThinF_IMG_20151115_092900_cell_178.png',\n",
       " 'C147P108ThinF_IMG_20151115_092900_cell_99.png',\n",
       " 'C147P108ThinF_IMG_20151115_101156_cell_100.png',\n",
       " 'C147P108ThinF_IMG_20151115_101156_cell_111.png',\n",
       " 'C147P108ThinF_IMG_20151115_103432_cell_169.png',\n",
       " 'C147P108ThinF_IMG_20151115_103432_cell_17.png',\n",
       " 'C148P109ThinF_IMG_20151115_112253_cell_138.png',\n",
       " 'C148P109ThinF_IMG_20151115_112253_cell_212.png',\n",
       " 'C148P109ThinF_IMG_20151115_112253_cell_218.png',\n",
       " 'C148P109ThinF_IMG_20151115_112333_cell_103.png',\n",
       " 'C148P109ThinF_IMG_20151115_112333_cell_104.png',\n",
       " 'C148P109ThinF_IMG_20151115_112445_cell_202.png',\n",
       " 'C148P109ThinF_IMG_20151115_112445_cell_87.png',\n",
       " 'C148P109ThinF_IMG_20151115_112855_cell_114.png',\n",
       " 'C149P110ThinF_IMG_20151115_114729_cell_57.png',\n",
       " 'C150P111ThinF_IMG_20151115_115805_cell_20.png',\n",
       " 'C150P111ThinF_IMG_20151115_115805_cell_52.png',\n",
       " 'C150P111ThinF_IMG_20151115_115922_cell_167.png',\n",
       " 'C150P111ThinF_IMG_20151115_120029_cell_22.png',\n",
       " 'C150P111ThinF_IMG_20151115_120244_cell_37.png',\n",
       " 'C151P112ThinF_IMG_20151115_121644_cell_211.png',\n",
       " 'C151P112ThinF_IMG_20151115_121725_cell_70.png',\n",
       " 'C151P112ThinF_IMG_20151115_121843_cell_113.png',\n",
       " 'C151P112ThinF_IMG_20151115_121843_cell_222.png',\n",
       " 'C151P112ThinF_IMG_20151115_121942_cell_124.png',\n",
       " 'C151P112ThinF_IMG_20151115_122342_cell_169.png',\n",
       " 'C152P113ThinF_IMG_20151115_124032_cell_153.png',\n",
       " 'C152P113ThinF_IMG_20151115_124032_cell_59.png',\n",
       " 'C152P113ThinF_IMG_20151115_124217_cell_118.png',\n",
       " 'C152P113ThinF_IMG_20151115_124557_cell_148.png',\n",
       " 'C152P113ThinF_IMG_20151115_124853_cell_116.png',\n",
       " 'C152P113ThinF_IMG_20151115_124853_cell_93.png',\n",
       " 'C153P114ThinF_IMG_20151115_135639_cell_39.png',\n",
       " 'C153P114ThinF_IMG_20151115_135639_cell_67.png',\n",
       " 'C153P114ThinF_IMG_20151115_135639_cell_80.png',\n",
       " 'C153P114ThinF_IMG_20151115_135746_cell_133.png',\n",
       " 'C153P114ThinF_IMG_20151115_135746_cell_193.png',\n",
       " 'C153P114ThinF_IMG_20151115_135911_cell_19.png',\n",
       " 'C153P114ThinF_IMG_20151115_140242_cell_138.png',\n",
       " 'C153P114ThinF_IMG_20151115_140242_cell_185.png',\n",
       " 'C153P114ThinF_IMG_20151115_140242_cell_21.png',\n",
       " 'C154P115ThinF_IMG_20151115_141336_cell_117.png',\n",
       " 'C154P115ThinF_IMG_20151115_141336_cell_159.png',\n",
       " 'C154P115ThinF_IMG_20151115_141407_cell_216.png',\n",
       " 'C154P115ThinF_IMG_20151115_141507_cell_15.png',\n",
       " 'C154P115ThinF_IMG_20151115_141507_cell_16.png',\n",
       " 'C154P115ThinF_IMG_20151115_141507_cell_166.png',\n",
       " 'C154P115ThinF_IMG_20151115_141507_cell_198.png',\n",
       " 'C154P115ThinF_IMG_20151115_141543_cell_45.png',\n",
       " 'C154P115ThinF_IMG_20151115_141543_cell_65.png',\n",
       " 'C154P115ThinF_IMG_20151115_141621_cell_65.png',\n",
       " 'C154P115ThinF_IMG_20151115_141621_cell_81.png',\n",
       " 'C154P115ThinF_IMG_20151115_141837_cell_99.png',\n",
       " 'C155P116ThinF_IMG_20151115_142526_cell_86.png',\n",
       " 'C155P116ThinF_IMG_20151115_143330_cell_102.png',\n",
       " 'C155P116ThinF_IMG_20151115_143330_cell_55.png',\n",
       " 'C156P117ThinF_IMG_20151115_153831_cell_214.png',\n",
       " 'C156P117ThinF_IMG_20151115_154022_cell_121.png',\n",
       " 'C156P117ThinF_IMG_20151115_154022_cell_64.png',\n",
       " 'C156P117ThinF_IMG_20151115_154022_cell_72.png',\n",
       " 'C156P117ThinF_IMG_20151115_154435_cell_204.png',\n",
       " 'C156P117ThinF_IMG_20151115_155104_cell_218.png',\n",
       " 'C157P118ThinF_IMG_20151115_162818_cell_116.png',\n",
       " 'C157P118ThinF_IMG_20151115_162818_cell_138.png',\n",
       " 'C157P118ThinF_IMG_20151115_162818_cell_90.png',\n",
       " 'C157P118ThinF_IMG_20151115_163611_cell_9.png',\n",
       " 'C157P118ThinF_IMG_20151115_163759_cell_140.png',\n",
       " 'C157P118ThinF_IMG_20151115_163759_cell_141.png',\n",
       " 'C157P118ThinF_IMG_20151115_164141_cell_145.png',\n",
       " 'C158P119ThinF_IMG_20151115_181035_cell_92.png',\n",
       " 'C158P119ThinF_IMG_20151115_181136_cell_102.png',\n",
       " 'C158P119ThinF_IMG_20151115_181436_cell_110.png',\n",
       " 'C158P119ThinF_IMG_20151115_181436_cell_133.png',\n",
       " 'C159P120ThinF_IMG_20151115_185541_cell_69.png',\n",
       " 'C159P120ThinF_IMG_20151115_190002_cell_163.png',\n",
       " 'C159P120ThinF_IMG_20151115_190002_cell_52.png',\n",
       " 'C159P120ThinF_IMG_20151115_190421_cell_160.png',\n",
       " 'C159P120ThinF_IMG_20151115_190642_cell_80.png',\n",
       " 'C159P120ThinF_IMG_20151115_191301_cell_34.png',\n",
       " 'C160P121ThinF_IMG_20151116_092925_cell_127.png',\n",
       " 'C160P121ThinF_IMG_20151116_092925_cell_133.png',\n",
       " 'C160P121ThinF_IMG_20151116_092925_cell_136.png',\n",
       " 'C160P121ThinF_IMG_20151116_093629_cell_79.png',\n",
       " 'C160P121ThinF_IMG_20151116_093748_cell_33.png',\n",
       " 'C160P121ThinF_IMG_20151116_093748_cell_96.png',\n",
       " 'C160P121ThinF_IMG_20151116_094509_cell_98.png',\n",
       " 'C161P122ThinF_IMG_20151116_100840_cell_51.png',\n",
       " 'C161P122ThinF_IMG_20151116_100840_cell_90.png',\n",
       " 'C161P122ThinF_IMG_20151116_101059_cell_22.png',\n",
       " 'C161P122ThinF_IMG_20151116_101059_cell_69.png',\n",
       " 'C161P122ThinF_IMG_20151116_101126_cell_24.png',\n",
       " 'C161P122ThinF_IMG_20151116_101210_cell_52.png',\n",
       " 'C161P122ThinF_IMG_20151116_101315_cell_63.png',\n",
       " 'C161P122ThinF_IMG_20151116_101626_cell_78.png',\n",
       " 'C162P123ThinF_IMG_20151116_102655_cell_85.png',\n",
       " 'C162P123ThinF_IMG_20151116_102751_cell_123.png',\n",
       " 'C162P123ThinF_IMG_20151116_102751_cell_85.png',\n",
       " 'C162P123ThinF_IMG_20151116_105019_cell_107.png',\n",
       " 'C162P123ThinF_IMG_20151116_105019_cell_23.png',\n",
       " 'C162P123ThinF_IMG_20151116_105019_cell_31.png',\n",
       " 'C163P124ThinF_IMG_20151116_110818_cell_258.png',\n",
       " 'C163P124ThinF_IMG_20151116_110921_cell_49.png',\n",
       " 'C163P124ThinF_IMG_20151116_111742_cell_221.png',\n",
       " 'C163P124ThinF_IMG_20151116_111742_cell_45.png',\n",
       " 'C163P124ThinF_IMG_20151116_111925_cell_94.png',\n",
       " 'C163P124ThinF_IMG_20151116_111925_cell_97.png',\n",
       " 'C164P125ThinF_IMG_20151116_113651_cell_77.png',\n",
       " 'C164P125ThinF_IMG_20151116_113954_cell_48.png',\n",
       " 'C164P125ThinF_IMG_20151116_114404_cell_170.png',\n",
       " 'C164P125ThinF_IMG_20151116_114404_cell_22.png',\n",
       " 'C164P125ThinF_IMG_20151116_115112_cell_90.png',\n",
       " 'C164P125ThinF_IMG_20151116_115650_cell_12.png',\n",
       " 'C164P125ThinF_IMG_20151116_115650_cell_81.png',\n",
       " 'C164P125ThinF_IMG_20151116_115650_cell_98.png',\n",
       " 'C165P126ThinF_IMG_20151117_164432_cell_176.png',\n",
       " 'C165P126ThinF_IMG_20151117_172356_cell_55.png',\n",
       " 'C165P126ThinF_IMG_20151117_172356_cell_62.png',\n",
       " 'C165P126ThinF_IMG_20151117_172859_cell_176.png',\n",
       " 'C165P126ThinF_IMG_20151117_172859_cell_191.png',\n",
       " 'C166P127ThinF_IMG_20151117_193931_cell_106.png',\n",
       " 'C166P127ThinF_IMG_20151117_193931_cell_131.png',\n",
       " 'C166P127ThinF_IMG_20151117_194410_cell_30.png',\n",
       " 'C166P127ThinF_IMG_20151117_195030_cell_31.png',\n",
       " 'C167P128ReThinF_IMG_20151201_105354_cell_214.png',\n",
       " 'C167P128ReThinF_IMG_20151201_105354_cell_64.png',\n",
       " 'C167P128ReThinF_IMG_20151201_105559_cell_61.png',\n",
       " 'C167P128ReThinF_IMG_20151201_105707_cell_84.png',\n",
       " 'C167P128ReThinF_IMG_20151201_105707_cell_93.png',\n",
       " 'C168P129ThinF_IMG_20151118_154651_cell_27.png',\n",
       " 'C168P129ThinF_IMG_20151118_154651_cell_57.png',\n",
       " 'C168P129ThinF_IMG_20151118_155802_cell_121.png',\n",
       " 'C168P129ThinF_IMG_20151118_160516_cell_105.png',\n",
       " 'C168P129ThinF_IMG_20151118_160845_cell_125.png',\n",
       " 'C168P129ThinF_IMG_20151118_160845_cell_18.png',\n",
       " 'C168P129ThinF_IMG_20151118_161940_cell_118.png',\n",
       " 'C168P129ThinF_IMG_20151118_161940_cell_142.png',\n",
       " 'C169P130ThinF_IMG_20151118_163539_cell_148.png',\n",
       " 'C169P130ThinF_IMG_20151118_172913_cell_4.png',\n",
       " 'C169P130ThinF_IMG_20151118_173039_cell_81.png',\n",
       " 'C169P130ThinF_IMG_20151119_143039_cell_158.png',\n",
       " 'C169P130ThinF_IMG_20151119_143039_cell_182.png',\n",
       " 'C169P130ThinF_IMG_20151119_143039_cell_203.png',\n",
       " 'C170P131ThinF_IMG_20151119_120019_cell_209.png',\n",
       " 'C170P131ThinF_IMG_20151119_120111_cell_132.png',\n",
       " 'C170P131ThinF_IMG_20151119_120150_cell_165.png',\n",
       " 'C171P132ThinF_IMG_20151119_152913_cell_141.png',\n",
       " 'C171P132ThinF_IMG_20151119_152913_cell_76.png',\n",
       " 'C171P132ThinF_IMG_20151119_153150_cell_35.png',\n",
       " 'C171P132ThinF_IMG_20151119_153347_cell_167.png',\n",
       " 'C171P132ThinF_IMG_20151119_153347_cell_205.png',\n",
       " 'C171P132ThinF_IMG_20151119_153425_cell_189.png',\n",
       " 'C171P132ThinF_IMG_20151119_153512_cell_125.png',\n",
       " 'C172P133ThinF_IMG_20151119_154936_cell_119.png',\n",
       " 'C172P133ThinF_IMG_20151119_155019_cell_69.png',\n",
       " 'C172P133ThinF_IMG_20151119_155156_cell_197.png',\n",
       " 'C173P134NThinF_IMG_20151130_115339_cell_122.png',\n",
       " 'C173P134NThinF_IMG_20151130_115339_cell_225.png',\n",
       " 'C173P134NThinF_IMG_20151130_115339_cell_9.png',\n",
       " 'C173P134NThinF_IMG_20151130_115733_cell_10.png',\n",
       " 'C173P134NThinF_IMG_20151130_115733_cell_181.png',\n",
       " 'C173P134NThinF_IMG_20151130_115733_cell_206.png',\n",
       " 'C173P134NThinF_IMG_20151130_115733_cell_92.png',\n",
       " 'C173P134NThinF_IMG_20151130_125408_cell_241.png',\n",
       " 'C173P134NThinF_IMG_20151130_125408_cell_258.png',\n",
       " 'C173P134NThinF_IMG_20151130_125501_cell_112.png',\n",
       " 'C173P134NThinF_IMG_20151130_125501_cell_52.png',\n",
       " 'C174P135NThinF_IMG_20151127_135311_cell_183.png',\n",
       " 'C174P135NThinF_IMG_20151127_135342_cell_117.png',\n",
       " 'C174P135NThinF_IMG_20151127_135342_cell_138.png',\n",
       " 'C174P135NThinF_IMG_20151127_135435_cell_43.png',\n",
       " 'C174P135NThinF_IMG_20151127_135435_cell_91.png',\n",
       " 'C174P135NThinF_IMG_20151127_135512_cell_109.png',\n",
       " 'C174P135NThinF_IMG_20151127_135554_cell_45.png',\n",
       " 'C174P135NThinF_IMG_20151127_135640_cell_128.png',\n",
       " 'C175P136NThinF_IMG_20151127_142326_cell_3.png',\n",
       " 'C176P137NThinF_IMG_20151201_120845_cell_48.png',\n",
       " 'C176P137NThinF_IMG_20151201_121808_cell_68.png',\n",
       " 'C176P137NThinF_IMG_20151201_122708_cell_1.png',\n",
       " 'C176P137NThinF_IMG_20151201_122708_cell_82.png',\n",
       " 'C176P137NThinF_IMG_20151201_122811_cell_114.png',\n",
       " 'C176P137NThinF_IMG_20151201_122811_cell_29.png',\n",
       " 'C177P138NThinF_IMG_20151201_142514_cell_89.png',\n",
       " 'C177P138NThinF_IMG_20151201_143546_cell_41.png',\n",
       " 'C177P138NThinF_IMG_20151201_143704_cell_164.png',\n",
       " 'C177P138NThinF_IMG_20151201_143704_cell_170.png',\n",
       " 'C177P138NThinF_IMG_20151201_144820_cell_2.png',\n",
       " 'C177P138NThinF_IMG_20151201_144820_cell_6.png',\n",
       " 'C178P139NThinF_IMG_20151201_153246_cell_141.png',\n",
       " 'C178P139NThinF_IMG_20151201_153246_cell_29.png',\n",
       " 'C178P139NThinF_IMG_20151201_153246_cell_39.png',\n",
       " 'C178P139NThinF_IMG_20151201_154025_cell_63.png',\n",
       " 'C178P139NThinF_IMG_20151201_154524_cell_40.png',\n",
       " 'C178P139NThinF_IMG_20151201_154524_cell_47.png',\n",
       " 'C178P139NThinF_IMG_20151201_154735_cell_18.png',\n",
       " 'C178P139NThinF_IMG_20151201_154735_cell_20.png',\n",
       " 'C178P139NThinF_IMG_20151201_154735_cell_40.png',\n",
       " 'C178P139NThinF_IMG_20151201_154735_cell_6.png',\n",
       " 'C179P140ThinF_IMG_20151127_153350_cell_59.png',\n",
       " 'C179P140ThinF_IMG_20151127_153436_cell_46.png',\n",
       " 'C179P140ThinF_IMG_20151127_153453_cell_114.png',\n",
       " 'C179P140ThinF_IMG_20151127_153453_cell_149.png',\n",
       " 'C179P140ThinF_IMG_20151127_153852_cell_10.png',\n",
       " 'C179P140ThinF_IMG_20151127_153852_cell_86.png',\n",
       " 'C180P141NThinF_IMG_20151201_163702_cell_115.png',\n",
       " 'C180P141NThinF_IMG_20151201_163751_cell_112.png',\n",
       " 'C180P141NThinF_IMG_20151201_163751_cell_62.png',\n",
       " 'C180P141NThinF_IMG_20151201_163848_cell_33.png',\n",
       " 'C180P141NThinF_IMG_20151201_165423_cell_67.png',\n",
       " 'C180P141NThinF_IMG_20151201_165528_cell_81.png',\n",
       " 'C180P141NThinF_IMG_20151201_165601_cell_71.png',\n",
       " 'C181P142ThinF_IMG_20151127_155722_cell_78.png',\n",
       " 'C181P142ThinF_IMG_20151127_160514_cell_106.png',\n",
       " 'C181P142ThinF_IMG_20151127_160514_cell_112.png',\n",
       " 'C181P142ThinF_IMG_20151127_160539_cell_42.png',\n",
       " 'C181P142ThinF_IMG_20151127_160616_cell_13.png',\n",
       " 'C181P142ThinF_IMG_20151127_160650_cell_116.png',\n",
       " 'C182P143NThinF_IMG_20151201_171905_cell_46.png',\n",
       " 'C182P143NThinF_IMG_20151201_171950_cell_54.png',\n",
       " 'C182P143NThinF_IMG_20151201_172216_cell_58.png',\n",
       " 'C182P143NThinF_IMG_20151201_172257_cell_9.png',\n",
       " 'C182P143NThinF_IMG_20151201_172524_cell_19.png',\n",
       " 'C183P144NThinF_IMG_20151201_222119_cell_64.png',\n",
       " 'C183P144NThinF_IMG_20151201_223208_cell_63.png',\n",
       " 'C183P144NThinF_IMG_20151201_223208_cell_99.png',\n",
       " 'C183P144NThinF_IMG_20151201_223431_cell_91.png',\n",
       " 'C183P144NThinF_IMG_20151201_224458_cell_3.png',\n",
       " 'C184P145ThinF_IMG_20151203_102405_cell_5.png',\n",
       " 'C184P145ThinF_IMG_20151203_102543_cell_112.png',\n",
       " 'C184P145ThinF_IMG_20151203_103326_cell_115.png',\n",
       " 'C184P145ThinF_IMG_20151203_103326_cell_120.png',\n",
       " 'C184P145ThinF_IMG_20151203_103637_cell_61.png',\n",
       " 'C184P145ThinF_IMG_20151203_103824_cell_41.png',\n",
       " 'C184P145ThinF_IMG_20151203_104153_cell_15.png',\n",
       " 'C185P146ThinF_IMG_20151203_110344_cell_151.png',\n",
       " 'C185P146ThinF_IMG_20151203_110344_cell_76.png',\n",
       " 'C185P146ThinF_IMG_20151203_110448_cell_105.png',\n",
       " 'C185P146ThinF_IMG_20151203_110448_cell_168.png',\n",
       " 'C185P146ThinF_IMG_20151203_110448_cell_203.png',\n",
       " 'C185P146ThinF_IMG_20151203_110817_cell_251.png',\n",
       " 'C185P146ThinF_IMG_20151203_111121_cell_134.png',\n",
       " 'C186P147NThinF_IMG_20151203_150222_cell_14.png',\n",
       " 'C186P147NThinF_IMG_20151203_150322_cell_14.png',\n",
       " 'C186P147NThinF_IMG_20151203_150322_cell_90.png',\n",
       " 'C186P147NThinF_IMG_20151203_150557_cell_76.png',\n",
       " 'C186P147NThinF_IMG_20151203_150808_cell_113.png',\n",
       " 'C186P147NThinF_IMG_20151203_150808_cell_47.png',\n",
       " 'C187P148NThinF_IMG_20151203_153036_cell_104.png',\n",
       " 'C187P148NThinF_IMG_20151203_153410_cell_86.png',\n",
       " 'C187P148NThinF_IMG_20151203_154200_cell_12.png',\n",
       " 'C187P148NThinF_IMG_20151203_154200_cell_40.png',\n",
       " 'C187P148NThinF_IMG_20151203_154249_cell_19.png',\n",
       " 'C187P148NThinF_IMG_20151203_154249_cell_76.png',\n",
       " 'C188P149ThinF_IMG_20151203_134209_cell_138.png',\n",
       " 'C188P149ThinF_IMG_20151203_134229_cell_16.png',\n",
       " 'C188P149ThinF_IMG_20151203_134419_cell_134.png',\n",
       " 'C188P149ThinF_IMG_20151203_134419_cell_159.png',\n",
       " 'C189P150ThinF_IMG_20151203_140902_cell_92.png',\n",
       " 'C189P150ThinF_IMG_20151203_141004_cell_14.png',\n",
       " 'C189P150ThinF_IMG_20151203_141004_cell_6.png',\n",
       " 'C189P150ThinF_IMG_20151203_141455_cell_51.png',\n",
       " 'C189P150ThinF_IMG_20151203_141455_cell_70.png',\n",
       " 'C189P150ThinF_IMG_20151203_141719_cell_23.png',\n",
       " 'C189P150ThinF_IMG_20151203_141719_cell_44.png',\n",
       " 'C189P150ThinF_IMG_20151203_141809_cell_70.png',\n",
       " 'C189P150ThinF_IMG_20151203_142113_cell_19.png',\n",
       " 'C189P150ThinF_IMG_20151203_142224_cell_71.png',\n",
       " 'C1_thinF_IMG_20150604_104722_cell_231.png',\n",
       " 'C1_thinF_IMG_20150604_104722_cell_81.png',\n",
       " 'C1_thinF_IMG_20150604_104919_cell_178.png',\n",
       " 'C1_thinF_IMG_20150604_104942_cell_102.png',\n",
       " 'C1_thinF_IMG_20150604_104942_cell_72.png',\n",
       " 'C201ThinF_IMG_20150930_142848_cell_128.png',\n",
       " 'C201ThinF_IMG_20150930_142848_cell_236.png',\n",
       " 'C201ThinF_IMG_20150930_143129_cell_9.png',\n",
       " 'C201ThinF_IMG_20150930_143411_cell_216.png',\n",
       " 'C201ThinF_IMG_20150930_143411_cell_62.png',\n",
       " 'C201ThinF_IMG_20150930_143502_cell_237.png',\n",
       " 'C201ThinF_IMG_20150930_143544_cell_118.png',\n",
       " 'C201ThinF_IMG_20150930_143544_cell_190.png',\n",
       " 'C201ThinF_IMG_20150930_143544_cell_34.png',\n",
       " 'C202ThinF_IMG_20151015_151254_cell_80.png',\n",
       " 'C202ThinF_IMG_20151015_151736_cell_123.png',\n",
       " 'C202ThinF_IMG_20151015_152333_cell_169.png',\n",
       " 'C202ThinF_IMG_20151015_152701_cell_150.png',\n",
       " 'C202ThinF_IMG_20151015_152701_cell_196.png',\n",
       " 'C202ThinF_IMG_20151015_152701_cell_213.png',\n",
       " 'C203ThinF_IMG_20151029_102123_cell_130.png',\n",
       " 'C203ThinF_IMG_20151029_102123_cell_6.png',\n",
       " 'C203ThinF_IMG_20151029_104112_cell_62.png',\n",
       " 'C203ThinF_IMG_20151029_105443_cell_203.png',\n",
       " 'C203ThinF_IMG_20151029_105443_cell_224.png',\n",
       " 'C203ThinF_IMG_20151029_105443_cell_257.png',\n",
       " 'C203ThinF_IMG_20151029_105443_cell_74.png',\n",
       " 'C203ThinF_IMG_20151029_105443_cell_94.png',\n",
       " 'C204ThinF_IMG_20151029_110627_cell_111.png',\n",
       " 'C204ThinF_IMG_20151029_110627_cell_117.png',\n",
       " 'C204ThinF_IMG_20151029_110627_cell_254.png',\n",
       " 'C204ThinF_IMG_20151029_110834_cell_126.png',\n",
       " 'C204ThinF_IMG_20151029_110834_cell_18.png',\n",
       " 'C204ThinF_IMG_20151029_110834_cell_238.png',\n",
       " 'C204ThinF_IMG_20151029_110834_cell_252.png',\n",
       " 'C204ThinF_IMG_20151029_112231_cell_203.png',\n",
       " 'C204ThinF_IMG_20151029_112231_cell_221.png',\n",
       " 'C204ThinF_IMG_20151029_112231_cell_239.png',\n",
       " 'C204ThinF_IMG_20151029_112231_cell_60.png',\n",
       " 'C204ThinF_IMG_20151029_112502_cell_248.png',\n",
       " 'C205ThinF_IMG_20151106_151514_cell_127.png',\n",
       " 'C205ThinF_IMG_20151106_152003_cell_144.png',\n",
       " 'C206ThinF_IMG_20151029_140511_cell_112.png',\n",
       " 'C206ThinF_IMG_20151029_140538_cell_67.png',\n",
       " 'C206ThinF_IMG_20151029_140917_cell_103.png',\n",
       " 'C206ThinF_IMG_20151029_140917_cell_192.png',\n",
       " 'C206ThinF_IMG_20151029_140917_cell_272.png',\n",
       " 'C206ThinF_IMG_20151029_141047_cell_248.png',\n",
       " 'C206ThinF_IMG_20151029_141047_cell_86.png',\n",
       " 'C206ThinF_IMG_20151029_141047_cell_87.png',\n",
       " 'C207ThinF_IMG_20151029_143952_cell_17.png',\n",
       " 'C207ThinF_IMG_20151029_144033_cell_148.png',\n",
       " 'C207ThinF_IMG_20151029_144033_cell_94.png',\n",
       " 'C207ThinF_IMG_20151029_144152_cell_262.png',\n",
       " 'C208ThinF_IMG_20151029_151017_cell_207.png',\n",
       " 'C208ThinF_IMG_20151029_155411_cell_11.png',\n",
       " 'C208ThinF_IMG_20151029_155436_cell_55.png',\n",
       " 'C208ThinF_IMG_20151029_155436_cell_64.png',\n",
       " 'C208ThinF_IMG_20151029_155554_cell_35.png',\n",
       " 'C208ThinF_IMG_20151029_160108_cell_187.png',\n",
       " 'C208ThinF_IMG_20151029_160108_cell_42.png',\n",
       " 'C209ThinF_IMG_20151029_160721_cell_163.png',\n",
       " 'C209ThinF_IMG_20151029_160721_cell_43.png',\n",
       " 'C209ThinF_IMG_20151029_160803_cell_13.png',\n",
       " 'C209ThinF_IMG_20151029_160803_cell_204.png',\n",
       " 'C209ThinF_IMG_20151029_160803_cell_78.png',\n",
       " 'C209ThinF_IMG_20151029_160803_cell_90.png',\n",
       " 'C210ThinF_IMG_20151029_162357_cell_247.png',\n",
       " 'C210ThinF_IMG_20151029_162357_cell_50.png',\n",
       " 'C210ThinF_IMG_20151029_162439_cell_101.png',\n",
       " 'C210ThinF_IMG_20151029_162439_cell_243.png',\n",
       " 'C210ThinF_IMG_20151029_162439_cell_257.png',\n",
       " 'C210ThinF_IMG_20151029_162439_cell_28.png',\n",
       " 'C210ThinF_IMG_20151029_162439_cell_45.png',\n",
       " 'C210ThinF_IMG_20151029_162605_cell_245.png',\n",
       " 'C210ThinF_IMG_20151029_162605_cell_55.png',\n",
       " 'C210ThinF_IMG_20151029_162934_cell_177.png',\n",
       " 'C210ThinF_IMG_20151029_162934_cell_68.png',\n",
       " 'C211ThinF_IMG_20151029_163959_cell_257.png',\n",
       " 'C211ThinF_IMG_20151029_164033_cell_15.png',\n",
       " 'C211ThinF_IMG_20151029_164033_cell_163.png',\n",
       " 'C211ThinF_IMG_20151029_164033_cell_61.png',\n",
       " 'C211ThinF_IMG_20151029_164248_cell_132.png',\n",
       " 'C211ThinF_IMG_20151029_164248_cell_19.png',\n",
       " 'C212ThinF_IMG_20151106_105437_cell_143.png',\n",
       " 'C212ThinF_IMG_20151106_105437_cell_192.png',\n",
       " 'C212ThinF_IMG_20151106_105834_cell_45.png',\n",
       " 'C212ThinF_IMG_20151106_105941_cell_186.png',\n",
       " 'C212ThinF_IMG_20151106_105941_cell_260.png',\n",
       " 'C212ThinF_IMG_20151106_105941_cell_30.png',\n",
       " 'C212ThinF_IMG_20151106_110411_cell_15.png',\n",
       " 'C212ThinF_IMG_20151106_110411_cell_164.png',\n",
       " 'C212ThinF_IMG_20151106_110411_cell_240.png',\n",
       " 'C213ThinF_IMG_20151106_112422_cell_199.png',\n",
       " 'C213ThinF_IMG_20151106_112603_cell_172.png',\n",
       " 'C213ThinF_IMG_20151106_112603_cell_192.png',\n",
       " 'C213ThinF_IMG_20151106_112853_cell_118.png',\n",
       " 'C214ThinF_IMG_20151106_114526_cell_192.png',\n",
       " 'C214ThinF_IMG_20151106_114611_cell_200.png',\n",
       " 'C214ThinF_IMG_20151106_114910_cell_26.png',\n",
       " 'C214ThinF_IMG_20151106_114910_cell_36.png',\n",
       " 'C214ThinF_IMG_20151106_114910_cell_45.png',\n",
       " 'C214ThinF_IMG_20151106_131748_cell_19.png',\n",
       " 'C214ThinF_IMG_20151106_131748_cell_38.png',\n",
       " 'C215ThinF_IMG_20151106_133043_cell_121.png',\n",
       " 'C215ThinF_IMG_20151106_133043_cell_14.png',\n",
       " 'C215ThinF_IMG_20151106_133043_cell_148.png',\n",
       " 'C215ThinF_IMG_20151106_133116_cell_63.png',\n",
       " 'C216ThinF_IMG_20151106_134733_cell_120.png',\n",
       " 'C216ThinF_IMG_20151106_134931_cell_28.png',\n",
       " 'C216ThinF_IMG_20151106_134931_cell_45.png',\n",
       " 'C216ThinF_IMG_20151106_134931_cell_64.png',\n",
       " 'C216ThinF_IMG_20151106_135228_cell_94.png',\n",
       " 'C216ThinF_IMG_20151106_135337_cell_60.png',\n",
       " 'C217ThinF_IMG_20151106_141326_cell_105.png',\n",
       " 'C217ThinF_IMG_20151106_141326_cell_113.png',\n",
       " 'C217ThinF_IMG_20151106_141500_cell_30.png',\n",
       " 'C217ThinF_IMG_20151106_141649_cell_146.png',\n",
       " 'C217ThinF_IMG_20151106_141649_cell_40.png',\n",
       " 'C217ThinF_IMG_20151106_141649_cell_63.png',\n",
       " 'C217ThinF_IMG_20151106_142147_cell_201.png',\n",
       " 'C217ThinF_IMG_20151106_142147_cell_68.png',\n",
       " 'C218ThinF_IMG_20151106_143940_cell_207.png',\n",
       " 'C218ThinF_IMG_20151106_144001_cell_223.png',\n",
       " 'C218ThinF_IMG_20151106_144001_cell_63.png',\n",
       " 'C218ThinF_IMG_20151106_144143_cell_1.png',\n",
       " 'C218ThinF_IMG_20151106_144143_cell_170.png',\n",
       " 'C218ThinF_IMG_20151106_144143_cell_9.png',\n",
       " 'C218ThinF_IMG_20151106_144337_cell_104.png',\n",
       " 'C218ThinF_IMG_20151106_144337_cell_147.png',\n",
       " 'C218ThinF_IMG_20151106_144337_cell_52.png',\n",
       " 'C218ThinF_IMG_20151106_144337_cell_57.png',\n",
       " 'C219ThinF_IMG_20151106_145856_cell_212.png',\n",
       " 'C219ThinF_IMG_20151106_145856_cell_29.png',\n",
       " 'C219ThinF_IMG_20151106_145927_cell_186.png',\n",
       " 'C219ThinF_IMG_20151106_145927_cell_216.png',\n",
       " 'C219ThinF_IMG_20151106_150135_cell_14.png',\n",
       " 'C219ThinF_IMG_20151106_150135_cell_183.png',\n",
       " 'C219ThinF_IMG_20151106_150135_cell_21.png',\n",
       " 'C219ThinF_IMG_20151106_150314_cell_15.png',\n",
       " 'C219ThinF_IMG_20151106_150314_cell_190.png',\n",
       " 'C219ThinF_IMG_20151106_150314_cell_79.png',\n",
       " 'C220ThinF_IMG_20151106_153947_cell_65.png',\n",
       " 'C220ThinF_IMG_20151106_153947_cell_87.png',\n",
       " 'C220ThinF_IMG_20151106_154016_cell_114.png',\n",
       " 'C220ThinF_IMG_20151106_154339_cell_181.png',\n",
       " 'C220ThinF_IMG_20151106_154339_cell_219.png',\n",
       " 'C220ThinF_IMG_20151106_154510_cell_125.png',\n",
       " 'C220ThinF_IMG_20151106_154510_cell_72.png',\n",
       " 'C220ThinF_IMG_20151106_154533_cell_132.png',\n",
       " 'C220ThinF_IMG_20151106_154533_cell_185.png',\n",
       " 'C220ThinF_IMG_20151106_154533_cell_22.png',\n",
       " 'C221ThinF_IMG_20151106_160022_cell_164.png',\n",
       " 'C221ThinF_IMG_20151106_160022_cell_46.png',\n",
       " 'C221ThinF_IMG_20151106_160304_cell_22.png',\n",
       " 'C221ThinF_IMG_20151106_160515_cell_85.png',\n",
       " 'C221ThinF_IMG_20151106_160653_cell_109.png',\n",
       " 'C221ThinF_IMG_20151106_160653_cell_23.png',\n",
       " 'C221ThinF_IMG_20151106_160653_cell_83.png',\n",
       " 'C221ThinF_IMG_20151106_160727_cell_172.png',\n",
       " 'C222ThinF_IMG_20151115_150728_cell_165.png',\n",
       " 'C222ThinF_IMG_20151115_150728_cell_37.png',\n",
       " 'C222ThinF_IMG_20151115_150925_cell_215.png',\n",
       " 'C222ThinF_IMG_20151115_151211_cell_34.png',\n",
       " 'C222ThinF_IMG_20151115_151211_cell_50.png',\n",
       " 'C222ThinF_IMG_20151115_151433_cell_115.png',\n",
       " 'C222ThinF_IMG_20151115_151433_cell_36.png',\n",
       " 'C223ThinF_IMG_20151112_104118_cell_193.png',\n",
       " 'C223ThinF_IMG_20151112_104240_cell_185.png',\n",
       " 'C224ThinF_IMG_20151112_111955_cell_132.png',\n",
       " 'C224ThinF_IMG_20151112_111955_cell_63.png',\n",
       " 'C224ThinF_IMG_20151112_112334_cell_114.png',\n",
       " 'C224ThinF_IMG_20151112_112334_cell_4.png',\n",
       " 'C224ThinF_IMG_20151112_113157_cell_187.png',\n",
       " 'C225ThinF_IMG_20151112_113915_cell_136.png',\n",
       " 'C225ThinF_IMG_20151112_113915_cell_58.png',\n",
       " 'C225ThinF_IMG_20151112_113953_cell_14.png',\n",
       " 'C225ThinF_IMG_20151112_113953_cell_188.png',\n",
       " 'C226ThinF_IMG_20151112_131255_cell_141.png',\n",
       " 'C226ThinF_IMG_20151112_131255_cell_150.png',\n",
       " 'C226ThinF_IMG_20151112_131255_cell_263.png',\n",
       " 'C226ThinF_IMG_20151112_131546_cell_166.png',\n",
       " 'C226ThinF_IMG_20151112_131622_cell_41.png',\n",
       " 'C226ThinF_IMG_20151112_131622_cell_42.png',\n",
       " 'C226ThinF_IMG_20151112_131731_cell_232.png',\n",
       " 'C226ThinF_IMG_20151112_131731_cell_40.png',\n",
       " 'C227ThinF_IMG_20151112_135158_cell_134.png',\n",
       " 'C227ThinF_IMG_20151112_135158_cell_17.png',\n",
       " 'C227ThinF_IMG_20151112_135509_cell_182.png',\n",
       " 'C227ThinF_IMG_20151112_135509_cell_199.png',\n",
       " 'C227ThinF_IMG_20151112_135509_cell_241.png',\n",
       " 'C228ThinF_IMG_20151112_142109_cell_144.png',\n",
       " 'C228ThinF_IMG_20151112_142109_cell_147.png',\n",
       " 'C228ThinF_IMG_20151112_142216_cell_154.png',\n",
       " 'C229ThinF_IMG_20151112_144222_cell_42.png',\n",
       " 'C229ThinF_IMG_20151112_144534_cell_126.png',\n",
       " 'C229ThinF_IMG_20151112_144534_cell_127.png',\n",
       " 'C229ThinF_IMG_20151112_144652_cell_274.png',\n",
       " 'C229ThinF_IMG_20151112_144652_cell_51.png',\n",
       " 'C229ThinF_IMG_20151112_144652_cell_81.png',\n",
       " 'C230ThinF_IMG_20151112_150329_cell_222.png',\n",
       " 'C230ThinF_IMG_20151112_150329_cell_31.png',\n",
       " 'C230ThinF_IMG_20151112_150647_cell_11.png',\n",
       " 'C230ThinF_IMG_20151112_150647_cell_43.png',\n",
       " 'C230ThinF_IMG_20151112_150647_cell_75.png',\n",
       " 'C230ThinF_IMG_20151112_150730_cell_144.png',\n",
       " 'C230ThinF_IMG_20151112_150730_cell_24.png',\n",
       " 'C230ThinF_IMG_20151112_150753_cell_269.png',\n",
       " 'C230ThinF_IMG_20151112_150753_cell_29.png',\n",
       " 'C231ThinF_IMG_20151112_153041_cell_105.png',\n",
       " 'C231ThinF_IMG_20151112_153147_cell_78.png',\n",
       " 'C231ThinF_IMG_20151112_153246_cell_121.png',\n",
       " 'C231ThinF_IMG_20151112_153246_cell_23.png',\n",
       " 'C232ThinF_IMG_20151112_154211_cell_126.png',\n",
       " 'C232ThinF_IMG_20151112_154211_cell_70.png',\n",
       " 'C232ThinF_IMG_20151112_154251_cell_256.png',\n",
       " 'C232ThinF_IMG_20151112_154345_cell_221.png',\n",
       " 'C232ThinF_IMG_20151112_154345_cell_34.png',\n",
       " 'C232ThinF_IMG_20151112_154424_cell_4.png',\n",
       " 'C233ThinF_IMG_20151112_160059_cell_215.png',\n",
       " 'C233ThinF_IMG_20151112_160059_cell_265.png',\n",
       " 'C233ThinF_IMG_20151112_160129_cell_28.png',\n",
       " 'C233ThinF_IMG_20151112_160635_cell_166.png',\n",
       " 'C233ThinF_IMG_20151112_160635_cell_3.png',\n",
       " 'C233ThinF_IMG_20151112_161024_cell_222.png',\n",
       " 'C233ThinF_IMG_20151112_161024_cell_79.png',\n",
       " 'C233ThinF_IMG_20151112_161119_cell_12.png',\n",
       " 'C233ThinF_IMG_20151112_161119_cell_257.png',\n",
       " 'C233ThinF_IMG_20151112_161119_cell_258.png',\n",
       " 'C233ThinF_IMG_20151112_161119_cell_4.png',\n",
       " 'C234ThinF_IMG_20151112_162759_cell_22.png',\n",
       " 'C234ThinF_IMG_20151112_162843_cell_213.png',\n",
       " 'C234ThinF_IMG_20151112_162909_cell_274.png',\n",
       " 'C234ThinF_IMG_20151112_163036_cell_162.png',\n",
       " 'C235ThinF_IMG_20151112_164625_cell_183.png',\n",
       " 'C235ThinF_IMG_20151112_164834_cell_130.png',\n",
       " 'C236ThinF_IMG_20151127_102115_cell_86.png',\n",
       " 'C236ThinF_IMG_20151127_102428_cell_111.png',\n",
       " 'C236ThinF_IMG_20151127_102428_cell_175.png',\n",
       " 'C236ThinF_IMG_20151127_102516_cell_20.png',\n",
       " 'C236ThinF_IMG_20151127_102546_cell_134.png',\n",
       " 'C236ThinF_IMG_20151127_102635_cell_88.png',\n",
       " 'C237ThinF_IMG_20151127_104748_cell_178.png',\n",
       " 'C237ThinF_IMG_20151127_104748_cell_67.png',\n",
       " 'C237ThinF_IMG_20151127_104844_cell_138.png',\n",
       " 'C237ThinF_IMG_20151127_104844_cell_199.png',\n",
       " 'C237ThinF_IMG_20151127_104844_cell_244.png',\n",
       " 'C237ThinF_IMG_20151127_105320_cell_131.png',\n",
       " 'C237ThinF_IMG_20151127_105345_cell_228.png',\n",
       " 'C238NThinF_IMG_20151207_114038_cell_120.png',\n",
       " 'C238NThinF_IMG_20151207_114444_cell_91.png',\n",
       " 'C238NThinF_IMG_20151207_114653_cell_13.png',\n",
       " 'C238NThinF_IMG_20151207_114914_cell_26.png',\n",
       " 'C239ThinF_IMG_20151127_113008_cell_39.png',\n",
       " 'C239ThinF_IMG_20151127_113150_cell_24.png',\n",
       " 'C239ThinF_IMG_20151127_113150_cell_3.png',\n",
       " 'C239ThinF_IMG_20151127_113223_cell_237.png',\n",
       " 'C239ThinF_IMG_20151127_113223_cell_38.png',\n",
       " 'C239ThinF_IMG_20151127_113253_cell_188.png',\n",
       " 'C239ThinF_IMG_20151127_113253_cell_73.png',\n",
       " 'C239ThinF_IMG_20151127_113253_cell_80.png',\n",
       " 'C240ThinF_IMG_20151127_115247_cell_64.png',\n",
       " 'C240ThinF_IMG_20151127_115247_cell_96.png',\n",
       " 'C240ThinF_IMG_20151127_115306_cell_92.png',\n",
       " 'C240ThinF_IMG_20151127_115328_cell_16.png',\n",
       " 'C240ThinF_IMG_20151127_115328_cell_196.png',\n",
       " 'C240ThinF_IMG_20151127_115328_cell_200.png',\n",
       " 'C240ThinF_IMG_20151127_115328_cell_225.png',\n",
       " 'C240ThinF_IMG_20151127_115545_cell_140.png',\n",
       " 'C240ThinF_IMG_20151127_115545_cell_205.png',\n",
       " 'C240ThinF_IMG_20151127_115545_cell_42.png',\n",
       " 'C241NThinF_IMG_20151207_124030_cell_129.png',\n",
       " 'C241NThinF_IMG_20151207_124030_cell_143.png',\n",
       " 'C241NThinF_IMG_20151207_124030_cell_15.png',\n",
       " 'C241NThinF_IMG_20151207_124030_cell_150.png',\n",
       " 'C241NThinF_IMG_20151207_124030_cell_43.png',\n",
       " 'C241NThinF_IMG_20151207_124115_cell_166.png',\n",
       " 'C241NThinF_IMG_20151207_124115_cell_173.png',\n",
       " 'C241NThinF_IMG_20151207_124115_cell_26.png',\n",
       " 'C241NThinF_IMG_20151207_124208_cell_29.png',\n",
       " 'C241NThinF_IMG_20151207_124208_cell_68.png',\n",
       " 'C241NThinF_IMG_20151207_124240_cell_51.png',\n",
       " 'C241NThinF_IMG_20151207_124240_cell_9.png',\n",
       " 'C241NThinF_IMG_20151207_124358_cell_137.png',\n",
       " 'C241NThinF_IMG_20151207_124608_cell_120.png',\n",
       " 'C241NThinF_IMG_20151207_124608_cell_171.png',\n",
       " 'C2NThinF_IMG_20150604_114631_cell_215.png',\n",
       " 'C2NThinF_IMG_20150604_114730_cell_178.png',\n",
       " 'C2NThinF_IMG_20150604_115238_cell_247.png',\n",
       " 'C2NThinF_IMG_20150604_115238_cell_259.png',\n",
       " 'C33P1thinF_IMG_20150619_115740a_cell_127.png',\n",
       " 'C33P1thinF_IMG_20150619_115808a_cell_55.png',\n",
       " 'C33P1thinF_IMG_20150619_120645a_cell_11.png',\n",
       " 'C33P1thinF_IMG_20150619_120804a_cell_74.png',\n",
       " 'C33P1thinF_IMG_20150619_120838a_cell_134.png',\n",
       " 'C33P1thinF_IMG_20150619_121503a_cell_105.png',\n",
       " 'C37BP2_thinF_IMG_20150620_132440a_cell_50.png',\n",
       " 'C37BP2_thinF_IMG_20150620_132847a_cell_37.png',\n",
       " 'C37BP2_thinF_IMG_20150620_133001a_cell_2.png',\n",
       " 'C37BP2_thinF_IMG_20150620_133111a_cell_69.png',\n",
       " 'C37BP2_thinF_IMG_20150620_133205a_cell_41.png',\n",
       " 'C37BP2_thinF_IMG_20150620_133238a_cell_22.png',\n",
       " 'C38P3thinF_original_IMG_20150621_112023_cell_130.png',\n",
       " 'C38P3thinF_original_IMG_20150621_112043_cell_81.png',\n",
       " 'C38P3thinF_original_IMG_20150621_112116_cell_197.png',\n",
       " 'C38P3thinF_original_IMG_20150621_112116_cell_63.png',\n",
       " 'C38P3thinF_original_IMG_20150621_112138_cell_159.png',\n",
       " 'C38P3thinF_original_IMG_20150621_112227_cell_88.png',\n",
       " 'C38P3thinF_original_IMG_20150621_112246_cell_166.png',\n",
       " 'C38P3thinF_original_IMG_20150621_112246_cell_218.png',\n",
       " 'C38P3thinF_original_IMG_20150621_112246_cell_70.png',\n",
       " 'C39P4thinF_original_IMG_20150622_105253_cell_61.png',\n",
       " 'C39P4thinF_original_IMG_20150622_105803_cell_31.png',\n",
       " 'C39P4thinF_original_IMG_20150622_110115_cell_19.png',\n",
       " 'C39P4thinF_original_IMG_20150622_110435_cell_28.png',\n",
       " 'C39P4thinF_original_IMG_20150622_110435_cell_71.png',\n",
       " 'C39P4thinF_original_IMG_20150622_111206_cell_22.png',\n",
       " 'C39P4thinF_original_IMG_20150622_111206_cell_60.png',\n",
       " 'C39P4thinF_original_IMG_20150622_111723_cell_46.png',\n",
       " 'C3thin_original_IMG_20150608_162835_cell_101.png',\n",
       " 'C3thin_original_IMG_20150608_162835_cell_36.png',\n",
       " 'C3thin_original_IMG_20150608_163002_cell_159.png',\n",
       " 'C3thin_original_IMG_20150608_163029_cell_156.png',\n",
       " 'C3thin_original_IMG_20150608_163047_cell_36.png',\n",
       " 'C42P5thin_original_IMG_20150623_134426_cell_17.png',\n",
       " 'C42P5thin_original_IMG_20150623_134919_cell_100.png',\n",
       " 'C42P5thin_original_IMG_20150623_135251_cell_50.png',\n",
       " 'C42P5thin_original_IMG_20150623_135746_cell_21.png',\n",
       " 'C45P6ThinF_IMG_20151130_155011_cell_67.png',\n",
       " 'C45P6ThinF_IMG_20151130_155011_cell_72.png',\n",
       " 'C45P6ThinF_IMG_20151130_160135_cell_124.png',\n",
       " 'C45P6ThinF_IMG_20151130_160135_cell_4.png',\n",
       " 'C45P6ThinF_IMG_20151130_160241_cell_137.png',\n",
       " 'C45P6ThinF_IMG_20151130_160409_cell_163.png',\n",
       " 'C45P6ThinF_IMG_20151130_160409_cell_85.png',\n",
       " 'C45P6ThinF_IMG_20151130_160409_cell_9.png',\n",
       " 'C46P7ThinF_IMG_20151130_205719_cell_58.png',\n",
       " 'C46P7ThinF_IMG_20151130_205756_cell_10.png',\n",
       " 'C46P7ThinF_IMG_20151130_205756_cell_7.png',\n",
       " 'C46P7ThinF_IMG_20151130_205828_cell_96.png',\n",
       " 'C46P7ThinF_IMG_20151130_210743_cell_131.png',\n",
       " 'C46P7ThinF_IMG_20151130_210743_cell_36.png',\n",
       " 'C46P7ThinF_IMG_20151130_210843_cell_61.png',\n",
       " 'C46P7ThinF_IMG_20151130_210938_cell_109.png',\n",
       " 'C47P8thinOriginalOlympusCX21_IMG_20150717_173432_cell_10.png',\n",
       " 'C47P8thinOriginalOlympusCX21_IMG_20150717_173515_cell_106.png',\n",
       " 'C47P8thinOriginalOlympusCX21_IMG_20150717_174222_cell_17.png',\n",
       " 'C47P8thinOriginalOlympusCX21_IMG_20150717_174750_cell_137.png',\n",
       " 'C47P8thin_Original_Motic_IMG_20150714_093636_cell_119.png',\n",
       " 'C47P8thin_Original_Motic_IMG_20150714_093715_cell_108.png',\n",
       " 'C47P8thin_Original_Motic_IMG_20150714_093715_cell_30.png',\n",
       " 'C47P8thin_Original_Motic_IMG_20150714_093947_cell_156.png',\n",
       " 'C47P8thin_Original_Motic_IMG_20150714_094054_cell_164.png',\n",
       " 'C47P8thin_Original_Motic_IMG_20150714_094054_cell_52.png',\n",
       " 'C48P9thinF_IMG_20150721_160406_cell_183.png',\n",
       " 'C48P9thinF_IMG_20150721_160406_cell_39.png',\n",
       " 'C48P9thinF_IMG_20150721_160406_cell_60.png',\n",
       " 'C48P9thinF_IMG_20150721_161412_cell_7.png',\n",
       " 'C49P10thinF_IMG_20150724_102843_cell_64.png',\n",
       " 'C49P10thinF_IMG_20150724_102951_cell_130.png',\n",
       " 'C49P10thinF_IMG_20150724_103054_cell_186.png',\n",
       " 'C49P10thinF_IMG_20150724_103054_cell_98.png',\n",
       " 'C49P10thinF_IMG_20150724_103233_cell_158.png',\n",
       " 'C49P10thinF_IMG_20150724_103233_cell_184.png',\n",
       " 'C4thin_original_IMG_20150608_170016_cell_218.png',\n",
       " 'C4thin_original_IMG_20150608_170038_cell_180.png',\n",
       " 'C50P11thinF_IMG_20150724_114951_cell_104.png',\n",
       " 'C50P11thinF_IMG_20150724_115141_cell_1.png',\n",
       " 'C50P11thinF_IMG_20150724_115603_cell_19.png',\n",
       " 'C50P11thinF_IMG_20150724_115603_cell_6.png',\n",
       " 'C50P11thinF_IMG_20150724_115749_cell_143.png',\n",
       " 'C50P11thinF_IMG_20150724_120553_cell_76.png',\n",
       " 'C50P11thinF_IMG_20150724_120553_cell_96.png',\n",
       " 'C50P11thinF_IMG_20150724_120716_cell_133.png',\n",
       " 'C50P11thinF_IMG_20150724_120716_cell_89.png',\n",
       " 'C51AP12thinF_IMG_20150724_153313_cell_43.png',\n",
       " 'C51AP12thinF_IMG_20150724_154243_cell_32.png',\n",
       " 'C51AP12thinF_IMG_20150724_154330_cell_61.png',\n",
       " 'C51AP12thinF_IMG_20150724_155557_cell_15.png',\n",
       " 'C51AP12thinF_IMG_20150724_155557_cell_60.png',\n",
       " 'C51AP12thinF_IMG_20150724_160140_cell_14.png',\n",
       " 'C51AP12thinF_IMG_20150724_160140_cell_19.png',\n",
       " 'C51AP12thinF_IMG_20150724_162636_cell_75.png',\n",
       " 'C52P13thinF_IMG_20150725_124830_cell_123.png',\n",
       " 'C52P13thinF_IMG_20150725_125213_cell_141.png',\n",
       " 'C52P13thinF_IMG_20150725_125213_cell_69.png',\n",
       " 'C52P13thinF_IMG_20150725_130013_cell_104.png',\n",
       " 'C52P13thinF_IMG_20150725_130013_cell_171.png',\n",
       " 'C53P14thinF_IMG_20150726_114606_cell_11.png',\n",
       " 'C53P14thinF_IMG_20150726_114918_cell_144.png',\n",
       " 'C53P14thinF_IMG_20150726_114918_cell_23.png',\n",
       " 'C53P14thinF_IMG_20150726_115046_cell_142.png',\n",
       " 'C53P14thinF_IMG_20150726_115457_cell_97.png',\n",
       " 'C53P14thinF_IMG_20150726_120600_cell_68.png',\n",
       " 'C54P15thinF_IMG_20150728_102017_cell_127.png',\n",
       " 'C54P15thinF_IMG_20150728_102017_cell_192.png',\n",
       " 'C54P15thinF_IMG_20150728_102017_cell_34.png',\n",
       " 'C54P15thinF_IMG_20150728_105949_cell_14.png',\n",
       " 'C54P15thinF_IMG_20150728_112938_cell_26.png',\n",
       " 'C54P15thinF_IMG_20150728_113006_cell_176.png',\n",
       " 'C55P16thinF_IMG_20150728_121151_cell_16.png',\n",
       " 'C55P16thinF_IMG_20150728_123237_cell_146.png',\n",
       " 'C55P16thinF_IMG_20150728_123237_cell_78.png',\n",
       " 'C55P16thinF_IMG_20150728_123237_cell_85.png',\n",
       " 'C55P16thinF_IMG_20150728_123510_cell_79.png',\n",
       " 'C55P16thinF_IMG_20150728_124508_cell_139.png',\n",
       " 'C56P17thinF_IMG_20150728_151330_cell_7.png',\n",
       " 'C56P17thinF_IMG_20150728_153328_cell_75.png',\n",
       " 'C56P17thinF_IMG_20150728_155921_cell_12.png',\n",
       " 'C56P17thinF_IMG_20150728_160256_cell_30.png',\n",
       " 'C56P17thinF_IMG_20150728_160256_cell_65.png',\n",
       " 'C56P17thinF_IMG_20150728_160438_cell_115.png',\n",
       " 'C56P17thinF_IMG_20150728_160438_cell_8.png',\n",
       " 'C56P17thinF_IMG_20150728_160537_cell_42.png',\n",
       " 'C56P17thinF_IMG_20150728_160537_cell_63.png',\n",
       " 'C56P17thinF_IMG_20150728_160537_cell_81.png',\n",
       " 'C56P17thinF_IMG_20150728_160623_cell_121.png',\n",
       " 'C56P17thinF_IMG_20150728_160623_cell_123.png',\n",
       " 'C56P17thinF_IMG_20150728_160623_cell_90.png',\n",
       " 'C57P18thinF_IMG_20150729_104027_cell_128.png',\n",
       " 'C57P18thinF_IMG_20150729_110134_cell_107.png',\n",
       " ...]"
      ]
     },
     "execution_count": 74,
     "metadata": {},
     "output_type": "execute_result"
    }
   ],
   "source": [
    "os.listdir('..\\data\\cell_images/test/uninfected')"
   ]
  },
  {
   "cell_type": "code",
   "execution_count": 75,
   "id": "d399b47e",
   "metadata": {},
   "outputs": [],
   "source": [
    "train_path = '..\\data\\cell_images/train'\n",
    "test_path = '..\\data\\cell_images/test'"
   ]
  },
  {
   "cell_type": "code",
   "execution_count": 76,
   "id": "f66fc6ea",
   "metadata": {},
   "outputs": [
    {
     "data": {
      "text/plain": [
       "['parasitized', 'uninfected']"
      ]
     },
     "execution_count": 76,
     "metadata": {},
     "output_type": "execute_result"
    }
   ],
   "source": [
    "os.listdir(train_path)"
   ]
  },
  {
   "cell_type": "code",
   "execution_count": 77,
   "id": "b5a2e027",
   "metadata": {},
   "outputs": [],
   "source": [
    "dim1 = []\n",
    "dim2 = []\n",
    "for image_filename in os.listdir(test_path+'\\\\uninfected'):\n",
    "    \n",
    "    img = imread(test_path+'\\\\uninfected'+'\\\\'+image_filename)\n",
    "    d1,d2,colors = img.shape\n",
    "    dim1.append(d1)\n",
    "    dim2.append(d2)"
   ]
  },
  {
   "cell_type": "code",
   "execution_count": 84,
   "id": "3495ba7b",
   "metadata": {},
   "outputs": [
    {
     "data": {
      "text/plain": [
       "<seaborn.axisgrid.JointGrid at 0x1dd8ea65400>"
      ]
     },
     "execution_count": 84,
     "metadata": {},
     "output_type": "execute_result"
    },
    {
     "data": {
      "image/png": "[encoded data removed]",
      "text/plain": [
       "<Figure size 432x432 with 3 Axes>"
      ]
     },
     "metadata": {
      "needs_background": "light"
     },
     "output_type": "display_data"
    }
   ],
   "source": [
    "sns.jointplot(data = img.shape, x=dim1, y=dim2)"
   ]
  },
  {
   "cell_type": "code",
   "execution_count": 81,
   "id": "195c0eff",
   "metadata": {},
   "outputs": [
    {
     "data": {
      "text/plain": [
       "130.92538461538462"
      ]
     },
     "execution_count": 81,
     "metadata": {},
     "output_type": "execute_result"
    }
   ],
   "source": [
    "np.mean(dim1)"
   ]
  },
  {
   "cell_type": "code",
   "execution_count": 82,
   "id": "1b2f7b2d",
   "metadata": {},
   "outputs": [
    {
     "data": {
      "text/plain": [
       "130.75"
      ]
     },
     "execution_count": 82,
     "metadata": {},
     "output_type": "execute_result"
    }
   ],
   "source": [
    "np.mean(dim2)"
   ]
  },
  {
   "cell_type": "code",
   "execution_count": 85,
   "id": "6100422b",
   "metadata": {},
   "outputs": [],
   "source": [
    "image_shape = (130,130,3)"
   ]
  },
  {
   "cell_type": "markdown",
   "id": "382067a4",
   "metadata": {},
   "source": [
    "## DATA PREPARATION\n",
    "I shall use the ImageDataGenerator to automatically process the data, generate a flow of batches from a directory, and also manipulate the images and create data that can be passed into our convolutional neural network."
   ]
  },
  {
   "cell_type": "code",
   "execution_count": 86,
   "id": "18de1086",
   "metadata": {},
   "outputs": [],
   "source": [
    "from tensorflow.keras.preprocessing.image import ImageDataGenerator"
   ]
  },
  {
   "cell_type": "code",
   "execution_count": 87,
   "id": "2323c712",
   "metadata": {},
   "outputs": [],
   "source": [
    "image_gen = ImageDataGenerator(rotation_range=20, # rotate the image 20 degrees\n",
    "                               width_shift_range=0.10, # Shift the pic width by a max of 5%\n",
    "                               height_shift_range=0.10, # Shift the pic height by a max of 5%\n",
    "                               #rescale=1/255, # Rescale the image by normalzing it.\n",
    "                               shear_range=0.1, # Shear means cutting away part of the image (max 10%)\n",
    "                               zoom_range=0.1, # Zoom in by 10% max\n",
    "                               horizontal_flip=True, # Allo horizontal flipping\n",
    "                               fill_mode='nearest' # Fill in missing pixels with the nearest filled value\n",
    "                              )"
   ]
  },
  {
   "cell_type": "code",
   "execution_count": 88,
   "id": "bd22f8e4",
   "metadata": {},
   "outputs": [
    {
     "data": {
      "text/plain": [
       "<matplotlib.image.AxesImage at 0x1dd8ed76040>"
      ]
     },
     "execution_count": 88,
     "metadata": {},
     "output_type": "execute_result"
    },
    {
     "data": {
      "image/png": "[encoded data removed]",
      "text/plain": [
       "<Figure size 432x288 with 1 Axes>"
      ]
     },
     "metadata": {
      "needs_background": "light"
     },
     "output_type": "display_data"
    }
   ],
   "source": [
    "plt.imshow(infected_cell)"
   ]
  },
  {
   "cell_type": "code",
   "execution_count": 89,
   "id": "ba53d7e0",
   "metadata": {},
   "outputs": [
    {
     "data": {
      "text/plain": [
       "<matplotlib.image.AxesImage at 0x1dd9241f490>"
      ]
     },
     "execution_count": 89,
     "metadata": {},
     "output_type": "execute_result"
    },
    {
     "data": {
      "image/png": "[encoded data removed]",
      "text/plain": [
       "<Figure size 432x288 with 1 Axes>"
      ]
     },
     "metadata": {
      "needs_background": "light"
     },
     "output_type": "display_data"
    }
   ],
   "source": [
    "plt.imshow(image_gen.random_transform(infected_cell))"
   ]
  },
  {
   "cell_type": "markdown",
   "id": "7e2077be",
   "metadata": {},
   "source": [
    "### We use flow_from_directory to generate manipulated images from directory"
   ]
  },
  {
   "cell_type": "code",
   "execution_count": 90,
   "id": "f8655897",
   "metadata": {},
   "outputs": [],
   "source": [
    "train_path = '..\\data\\cell_images/train'\n",
    "test_path = '..\\data\\cell_images/test'"
   ]
  },
  {
   "cell_type": "code",
   "execution_count": 91,
   "id": "35e0a1d6",
   "metadata": {},
   "outputs": [
    {
     "name": "stdout",
     "output_type": "stream",
     "text": [
      "Found 24958 images belonging to 2 classes.\n"
     ]
    },
    {
     "data": {
      "text/plain": [
       "<keras.preprocessing.image.DirectoryIterator at 0x1dd9243d610>"
      ]
     },
     "execution_count": 91,
     "metadata": {},
     "output_type": "execute_result"
    }
   ],
   "source": [
    "image_gen.flow_from_directory(train_path)"
   ]
  },
  {
   "cell_type": "code",
   "execution_count": 92,
   "id": "66f41557",
   "metadata": {},
   "outputs": [
    {
     "name": "stdout",
     "output_type": "stream",
     "text": [
      "Found 2600 images belonging to 2 classes.\n"
     ]
    },
    {
     "data": {
      "text/plain": [
       "<keras.preprocessing.image.DirectoryIterator at 0x1dd92472610>"
      ]
     },
     "execution_count": 92,
     "metadata": {},
     "output_type": "execute_result"
    }
   ],
   "source": [
    "image_gen.flow_from_directory(test_path)"
   ]
  },
  {
   "cell_type": "markdown",
   "id": "912f96cc",
   "metadata": {},
   "source": [
    "## CREATING AND TRAINING THE CONVOLUTIONAL NEURAL NETWORK"
   ]
  },
  {
   "cell_type": "code",
   "execution_count": 62,
   "id": "2053d411",
   "metadata": {},
   "outputs": [],
   "source": [
    "from tensorflow.keras.models import Sequential\n",
    "from tensorflow.keras.layers import Activation, Dropout, Flatten, Dense, Conv2D, MaxPooling2D"
   ]
  },
  {
   "cell_type": "code",
   "execution_count": 63,
   "id": "7a72478f",
   "metadata": {},
   "outputs": [],
   "source": [
    "model = Sequential()\n",
    "\n",
    "model.add(Conv2D(filters=32, kernel_size=(3,3),input_shape=image_shape, activation='relu',))\n",
    "model.add(MaxPooling2D(pool_size=(2, 2)))\n",
    "\n",
    "model.add(Conv2D(filters=64, kernel_size=(3,3),input_shape=image_shape, activation='relu',))\n",
    "model.add(MaxPooling2D(pool_size=(2, 2)))\n",
    "\n",
    "model.add(Conv2D(filters=64, kernel_size=(3,3),input_shape=image_shape, activation='relu',))\n",
    "model.add(MaxPooling2D(pool_size=(2, 2)))\n",
    "\n",
    "\n",
    "model.add(Flatten())\n",
    "\n",
    "\n",
    "model.add(Dense(128))\n",
    "model.add(Activation('relu'))\n",
    "\n",
    "# Dropouts help reduce overfitting by randomly turning neurons off during training.\n",
    "# Here we say randomly turn off 50% of neurons.\n",
    "model.add(Dropout(0.5))\n",
    "\n",
    "# Last layer, remember its binary so we use sigmoid\n",
    "model.add(Dense(1))\n",
    "model.add(Activation('sigmoid'))\n",
    "\n",
    "model.compile(loss='binary_crossentropy',\n",
    "              optimizer='adam',\n",
    "              metrics=['accuracy'])"
   ]
  },
  {
   "cell_type": "code",
   "execution_count": 64,
   "id": "5bc498f4",
   "metadata": {},
   "outputs": [
    {
     "name": "stdout",
     "output_type": "stream",
     "text": [
      "Model: \"sequential\"\n",
      "_________________________________________________________________\n",
      "Layer (type)                 Output Shape              Param #   \n",
      "=================================================================\n",
      "conv2d (Conv2D)              (None, 128, 128, 32)      896       \n",
      "_________________________________________________________________\n",
      "max_pooling2d (MaxPooling2D) (None, 64, 64, 32)        0         \n",
      "_________________________________________________________________\n",
      "conv2d_1 (Conv2D)            (None, 62, 62, 64)        18496     \n",
      "_________________________________________________________________\n",
      "max_pooling2d_1 (MaxPooling2 (None, 31, 31, 64)        0         \n",
      "_________________________________________________________________\n",
      "conv2d_2 (Conv2D)            (None, 29, 29, 64)        36928     \n",
      "_________________________________________________________________\n",
      "max_pooling2d_2 (MaxPooling2 (None, 14, 14, 64)        0         \n",
      "_________________________________________________________________\n",
      "flatten (Flatten)            (None, 12544)             0         \n",
      "_________________________________________________________________\n",
      "dense (Dense)                (None, 128)               1605760   \n",
      "_________________________________________________________________\n",
      "activation (Activation)      (None, 128)               0         \n",
      "_________________________________________________________________\n",
      "dropout (Dropout)            (None, 128)               0         \n",
      "_________________________________________________________________\n",
      "dense_1 (Dense)              (None, 1)                 129       \n",
      "_________________________________________________________________\n",
      "activation_1 (Activation)    (None, 1)                 0         \n",
      "=================================================================\n",
      "Total params: 1,662,209\n",
      "Trainable params: 1,662,209\n",
      "Non-trainable params: 0\n",
      "_________________________________________________________________\n"
     ]
    }
   ],
   "source": [
    "model.summary()"
   ]
  },
  {
   "cell_type": "markdown",
   "id": "93acfd54",
   "metadata": {},
   "source": [
    "### Early Stopping to prevent overfitting"
   ]
  },
  {
   "cell_type": "code",
   "execution_count": 65,
   "id": "a049e2d8",
   "metadata": {},
   "outputs": [],
   "source": [
    "from tensorflow.keras.callbacks import EarlyStopping"
   ]
  },
  {
   "cell_type": "code",
   "execution_count": 66,
   "id": "7e5c637e",
   "metadata": {},
   "outputs": [],
   "source": [
    "early_stop = EarlyStopping(monitor='val_loss',patience=2)"
   ]
  },
  {
   "cell_type": "markdown",
   "id": "3455b674",
   "metadata": {},
   "source": [
    "## MODEL TRAINING"
   ]
  },
  {
   "cell_type": "code",
   "execution_count": 93,
   "id": "59ce1600",
   "metadata": {},
   "outputs": [],
   "source": [
    "batch_size = 16"
   ]
  },
  {
   "cell_type": "code",
   "execution_count": 94,
   "id": "7b403ac3",
   "metadata": {},
   "outputs": [
    {
     "name": "stdout",
     "output_type": "stream",
     "text": [
      "Found 24958 images belonging to 2 classes.\n"
     ]
    }
   ],
   "source": [
    "train_image_gen = image_gen.flow_from_directory(train_path,\n",
    "                                               target_size=image_shape[:2],\n",
    "                                                color_mode='rgb',\n",
    "                                               batch_size=batch_size,\n",
    "                                               class_mode='binary')"
   ]
  },
  {
   "cell_type": "code",
   "execution_count": 95,
   "id": "21d89ccb",
   "metadata": {},
   "outputs": [
    {
     "name": "stdout",
     "output_type": "stream",
     "text": [
      "Found 2600 images belonging to 2 classes.\n"
     ]
    }
   ],
   "source": [
    "test_image_gen = image_gen.flow_from_directory(test_path,\n",
    "                                               target_size=image_shape[:2],\n",
    "                                               color_mode='rgb',\n",
    "                                               batch_size=batch_size,\n",
    "                                               class_mode='binary',shuffle=False)"
   ]
  },
  {
   "cell_type": "code",
   "execution_count": 70,
   "id": "7c175210",
   "metadata": {},
   "outputs": [
    {
     "data": {
      "text/plain": [
       "{'parasitized': 0, 'uninfected': 1}"
      ]
     },
     "execution_count": 70,
     "metadata": {},
     "output_type": "execute_result"
    }
   ],
   "source": [
    "train_image_gen.class_indices"
   ]
  },
  {
   "cell_type": "code",
   "execution_count": 71,
   "id": "93acdc1b",
   "metadata": {},
   "outputs": [],
   "source": [
    "import warnings\n",
    "warnings.filterwarnings('ignore')"
   ]
  },
  {
   "cell_type": "code",
   "execution_count": 72,
   "id": "bb769db6",
   "metadata": {},
   "outputs": [
    {
     "name": "stdout",
     "output_type": "stream",
     "text": [
      "Epoch 1/20\n",
      "1560/1560 [==============================] - 577s 369ms/step - loss: 0.9363 - accuracy: 0.5445 - val_loss: 0.7098 - val_accuracy: 0.5250\n",
      "Epoch 2/20\n",
      "1560/1560 [==============================] - 487s 312ms/step - loss: 0.6831 - accuracy: 0.5664 - val_loss: 0.6698 - val_accuracy: 0.5946\n",
      "Epoch 3/20\n",
      "1560/1560 [==============================] - 486s 311ms/step - loss: 0.6720 - accuracy: 0.5923 - val_loss: 0.6655 - val_accuracy: 0.5915\n",
      "Epoch 4/20\n",
      "1560/1560 [==============================] - 482s 309ms/step - loss: 0.5835 - accuracy: 0.6803 - val_loss: 0.2185 - val_accuracy: 0.9250\n",
      "Epoch 5/20\n",
      "1560/1560 [==============================] - 482s 309ms/step - loss: 0.1997 - accuracy: 0.9344 - val_loss: 0.1825 - val_accuracy: 0.9346\n",
      "Epoch 6/20\n",
      "1560/1560 [==============================] - 481s 308ms/step - loss: 0.1871 - accuracy: 0.9392 - val_loss: 0.1851 - val_accuracy: 0.9362\n",
      "Epoch 7/20\n",
      "1560/1560 [==============================] - 483s 309ms/step - loss: 0.1856 - accuracy: 0.9422 - val_loss: 0.1794 - val_accuracy: 0.9423\n",
      "Epoch 8/20\n",
      "1560/1560 [==============================] - 493s 316ms/step - loss: 0.1813 - accuracy: 0.9433 - val_loss: 0.1764 - val_accuracy: 0.9412\n",
      "Epoch 9/20\n",
      "1560/1560 [==============================] - 499s 320ms/step - loss: 0.1853 - accuracy: 0.9427 - val_loss: 0.1768 - val_accuracy: 0.9396\n",
      "Epoch 10/20\n",
      "1560/1560 [==============================] - 497s 319ms/step - loss: 0.1757 - accuracy: 0.9451 - val_loss: 0.1723 - val_accuracy: 0.9427\n",
      "Epoch 11/20\n",
      "1560/1560 [==============================] - 498s 319ms/step - loss: 0.1755 - accuracy: 0.9454 - val_loss: 0.1847 - val_accuracy: 0.9396\n",
      "Epoch 12/20\n",
      "1560/1560 [==============================] - 543s 348ms/step - loss: 0.1770 - accuracy: 0.9448 - val_loss: 0.2021 - val_accuracy: 0.9308\n"
     ]
    }
   ],
   "source": [
    "results = model.fit_generator(train_image_gen,epochs=20,\n",
    "                              validation_data=test_image_gen,\n",
    "                             callbacks=[early_stop])"
   ]
  },
  {
   "cell_type": "markdown",
   "id": "41465344",
   "metadata": {},
   "source": [
    "## MODEL EVALUATION"
   ]
  },
  {
   "cell_type": "code",
   "execution_count": 73,
   "id": "c59aa1f5",
   "metadata": {},
   "outputs": [
    {
     "data": {
      "text/html": [
       "<div>\n",
       "<style scoped>\n",
       "    .dataframe tbody tr th:only-of-type {\n",
       "        vertical-align: middle;\n",
       "    }\n",
       "\n",
       "    .dataframe tbody tr th {\n",
       "        vertical-align: top;\n",
       "    }\n",
       "\n",
       "    .dataframe thead th {\n",
       "        text-align: right;\n",
       "    }\n",
       "</style>\n",
       "<table border=\"1\" class=\"dataframe\">\n",
       "  <thead>\n",
       "    <tr style=\"text-align: right;\">\n",
       "      <th></th>\n",
       "      <th>loss</th>\n",
       "      <th>accuracy</th>\n",
       "      <th>val_loss</th>\n",
       "      <th>val_accuracy</th>\n",
       "    </tr>\n",
       "  </thead>\n",
       "  <tbody>\n",
       "    <tr>\n",
       "      <th>0</th>\n",
       "      <td>0.936342</td>\n",
       "      <td>0.544475</td>\n",
       "      <td>0.709800</td>\n",
       "      <td>0.525000</td>\n",
       "    </tr>\n",
       "    <tr>\n",
       "      <th>1</th>\n",
       "      <td>0.683131</td>\n",
       "      <td>0.566432</td>\n",
       "      <td>0.669759</td>\n",
       "      <td>0.594615</td>\n",
       "    </tr>\n",
       "    <tr>\n",
       "      <th>2</th>\n",
       "      <td>0.672035</td>\n",
       "      <td>0.592275</td>\n",
       "      <td>0.665512</td>\n",
       "      <td>0.591538</td>\n",
       "    </tr>\n",
       "    <tr>\n",
       "      <th>3</th>\n",
       "      <td>0.583543</td>\n",
       "      <td>0.680303</td>\n",
       "      <td>0.218547</td>\n",
       "      <td>0.925000</td>\n",
       "    </tr>\n",
       "    <tr>\n",
       "      <th>4</th>\n",
       "      <td>0.199732</td>\n",
       "      <td>0.934410</td>\n",
       "      <td>0.182465</td>\n",
       "      <td>0.934615</td>\n",
       "    </tr>\n",
       "    <tr>\n",
       "      <th>5</th>\n",
       "      <td>0.187083</td>\n",
       "      <td>0.939178</td>\n",
       "      <td>0.185062</td>\n",
       "      <td>0.936154</td>\n",
       "    </tr>\n",
       "    <tr>\n",
       "      <th>6</th>\n",
       "      <td>0.185608</td>\n",
       "      <td>0.942183</td>\n",
       "      <td>0.179402</td>\n",
       "      <td>0.942308</td>\n",
       "    </tr>\n",
       "    <tr>\n",
       "      <th>7</th>\n",
       "      <td>0.181257</td>\n",
       "      <td>0.943305</td>\n",
       "      <td>0.176397</td>\n",
       "      <td>0.941154</td>\n",
       "    </tr>\n",
       "    <tr>\n",
       "      <th>8</th>\n",
       "      <td>0.185304</td>\n",
       "      <td>0.942704</td>\n",
       "      <td>0.176778</td>\n",
       "      <td>0.939615</td>\n",
       "    </tr>\n",
       "    <tr>\n",
       "      <th>9</th>\n",
       "      <td>0.175692</td>\n",
       "      <td>0.945148</td>\n",
       "      <td>0.172311</td>\n",
       "      <td>0.942692</td>\n",
       "    </tr>\n",
       "    <tr>\n",
       "      <th>10</th>\n",
       "      <td>0.175504</td>\n",
       "      <td>0.945388</td>\n",
       "      <td>0.184698</td>\n",
       "      <td>0.939615</td>\n",
       "    </tr>\n",
       "    <tr>\n",
       "      <th>11</th>\n",
       "      <td>0.177049</td>\n",
       "      <td>0.944787</td>\n",
       "      <td>0.202069</td>\n",
       "      <td>0.930769</td>\n",
       "    </tr>\n",
       "  </tbody>\n",
       "</table>\n",
       "</div>"
      ],
      "text/plain": [
       "        loss  accuracy  val_loss  val_accuracy\n",
       "0   0.936342  0.544475  0.709800      0.525000\n",
       "1   0.683131  0.566432  0.669759      0.594615\n",
       "2   0.672035  0.592275  0.665512      0.591538\n",
       "3   0.583543  0.680303  0.218547      0.925000\n",
       "4   0.199732  0.934410  0.182465      0.934615\n",
       "5   0.187083  0.939178  0.185062      0.936154\n",
       "6   0.185608  0.942183  0.179402      0.942308\n",
       "7   0.181257  0.943305  0.176397      0.941154\n",
       "8   0.185304  0.942704  0.176778      0.939615\n",
       "9   0.175692  0.945148  0.172311      0.942692\n",
       "10  0.175504  0.945388  0.184698      0.939615\n",
       "11  0.177049  0.944787  0.202069      0.930769"
      ]
     },
     "execution_count": 73,
     "metadata": {},
     "output_type": "execute_result"
    }
   ],
   "source": [
    "losses = pd.DataFrame(model.history.history)\n",
    "losses"
   ]
  },
  {
   "cell_type": "code",
   "execution_count": 74,
   "id": "f8ccb26c",
   "metadata": {},
   "outputs": [
    {
     "data": {
      "text/plain": [
       "<AxesSubplot:>"
      ]
     },
     "execution_count": 74,
     "metadata": {},
     "output_type": "execute_result"
    },
    {
     "data": {
      "image/png": "[encoded data removed]",
      "text/plain": [
       "<Figure size 432x288 with 1 Axes>"
      ]
     },
     "metadata": {
      "needs_background": "light"
     },
     "output_type": "display_data"
    }
   ],
   "source": [
    "losses[['loss','val_loss']].plot()"
   ]
  },
  {
   "cell_type": "code",
   "execution_count": 75,
   "id": "5535884c",
   "metadata": {},
   "outputs": [
    {
     "data": {
      "text/plain": [
       "['loss', 'accuracy']"
      ]
     },
     "execution_count": 75,
     "metadata": {},
     "output_type": "execute_result"
    }
   ],
   "source": [
    "model.metrics_names"
   ]
  },
  {
   "cell_type": "code",
   "execution_count": 76,
   "id": "7b8b36fb",
   "metadata": {},
   "outputs": [
    {
     "data": {
      "text/plain": [
       "[0.19789372384548187, 0.9365384578704834]"
      ]
     },
     "execution_count": 76,
     "metadata": {},
     "output_type": "execute_result"
    }
   ],
   "source": [
    "model.evaluate_generator(test_image_gen)"
   ]
  },
  {
   "cell_type": "code",
   "execution_count": 77,
   "id": "e6c6d8fd",
   "metadata": {},
   "outputs": [
    {
     "data": {
      "text/plain": [
       "[0.19778400659561157, 0.936923086643219]"
      ]
     },
     "execution_count": 77,
     "metadata": {},
     "output_type": "execute_result"
    }
   ],
   "source": [
    "model.evaluate_generator(test_image_gen)"
   ]
  },
  {
   "cell_type": "code",
   "execution_count": 78,
   "id": "9fb959e3",
   "metadata": {},
   "outputs": [
    {
     "data": {
      "text/plain": [
       "[0.19492243230342865, 0.936923086643219]"
      ]
     },
     "execution_count": 78,
     "metadata": {},
     "output_type": "execute_result"
    }
   ],
   "source": [
    "model.evaluate_generator(test_image_gen)"
   ]
  },
  {
   "cell_type": "code",
   "execution_count": 79,
   "id": "e955f23c",
   "metadata": {},
   "outputs": [],
   "source": [
    "pred_probabilities = model.predict_generator(test_image_gen)"
   ]
  },
  {
   "cell_type": "code",
   "execution_count": 80,
   "id": "42f5eff2",
   "metadata": {},
   "outputs": [
    {
     "data": {
      "text/plain": [
       "array([[3.3316016e-04],\n",
       "       [1.2556314e-03],\n",
       "       [8.9693069e-04],\n",
       "       ...,\n",
       "       [9.1658616e-01],\n",
       "       [9.3545699e-01],\n",
       "       [9.0206909e-01]], dtype=float32)"
      ]
     },
     "execution_count": 80,
     "metadata": {},
     "output_type": "execute_result"
    }
   ],
   "source": [
    "pred_probabilities"
   ]
  },
  {
   "cell_type": "code",
   "execution_count": 81,
   "id": "565d9fdd",
   "metadata": {},
   "outputs": [
    {
     "data": {
      "text/plain": [
       "2600"
      ]
     },
     "execution_count": 81,
     "metadata": {},
     "output_type": "execute_result"
    }
   ],
   "source": [
    "len(pred_probabilities)"
   ]
  },
  {
   "cell_type": "code",
   "execution_count": 82,
   "id": "c4e765c3",
   "metadata": {},
   "outputs": [
    {
     "data": {
      "text/plain": [
       "array([0, 0, 0, ..., 1, 1, 1])"
      ]
     },
     "execution_count": 82,
     "metadata": {},
     "output_type": "execute_result"
    }
   ],
   "source": [
    "test_image_gen.classes"
   ]
  },
  {
   "cell_type": "code",
   "execution_count": 83,
   "id": "59f66325",
   "metadata": {},
   "outputs": [],
   "source": [
    "predictions = pred_probabilities > 0.5"
   ]
  },
  {
   "cell_type": "code",
   "execution_count": 84,
   "id": "61bae378",
   "metadata": {},
   "outputs": [
    {
     "data": {
      "text/plain": [
       "array([[False],\n",
       "       [False],\n",
       "       [False],\n",
       "       ...,\n",
       "       [ True],\n",
       "       [ True],\n",
       "       [ True]])"
      ]
     },
     "execution_count": 84,
     "metadata": {},
     "output_type": "execute_result"
    }
   ],
   "source": [
    "predictions"
   ]
  },
  {
   "cell_type": "code",
   "execution_count": 85,
   "id": "b79541fa",
   "metadata": {},
   "outputs": [],
   "source": [
    "from sklearn.metrics import classification_report,confusion_matrix"
   ]
  },
  {
   "cell_type": "code",
   "execution_count": 86,
   "id": "4e057c1d",
   "metadata": {},
   "outputs": [
    {
     "name": "stdout",
     "output_type": "stream",
     "text": [
      "              precision    recall  f1-score   support\n",
      "\n",
      "           0       0.97      0.90      0.93      1300\n",
      "           1       0.90      0.97      0.94      1300\n",
      "\n",
      "    accuracy                           0.93      2600\n",
      "   macro avg       0.94      0.93      0.93      2600\n",
      "weighted avg       0.94      0.93      0.93      2600\n",
      "\n"
     ]
    }
   ],
   "source": [
    "print(classification_report(test_image_gen.classes,predictions))"
   ]
  },
  {
   "cell_type": "code",
   "execution_count": 87,
   "id": "cd85cc81",
   "metadata": {},
   "outputs": [
    {
     "data": {
      "text/plain": [
       "array([[1166,  134],\n",
       "       [  36, 1264]], dtype=int64)"
      ]
     },
     "execution_count": 87,
     "metadata": {},
     "output_type": "execute_result"
    }
   ],
   "source": [
    "confusion_matrix(test_image_gen.classes,predictions)"
   ]
  },
  {
   "cell_type": "markdown",
   "id": "b930f0d9",
   "metadata": {},
   "source": [
    "## PREDICTING A SINGLE IMAGE"
   ]
  },
  {
   "cell_type": "code",
   "execution_count": 167,
   "id": "2d6479de",
   "metadata": {},
   "outputs": [],
   "source": [
    "from tensorflow.keras.preprocessing import image"
   ]
  },
  {
   "cell_type": "code",
   "execution_count": 202,
   "id": "78aa0613",
   "metadata": {},
   "outputs": [],
   "source": [
    "# prediction of uninfected cell\n",
    "my_image = '..\\data\\cell_images/test/uninfected/C55P16thinF_IMG_20150728_123237_cell_85.png'"
   ]
  },
  {
   "cell_type": "code",
   "execution_count": 203,
   "id": "d7c2d91d",
   "metadata": {},
   "outputs": [],
   "source": [
    "my_image_1 = '..\\data\\cell_images/test/parasitized/C100P61ThinF_IMG_20150918_144348_cell_144.png'"
   ]
  },
  {
   "cell_type": "code",
   "execution_count": 204,
   "id": "52213561",
   "metadata": {},
   "outputs": [],
   "source": [
    "my_image = image.load_img(my_image,target_size=image_shape)"
   ]
  },
  {
   "cell_type": "code",
   "execution_count": 205,
   "id": "1e357c36",
   "metadata": {},
   "outputs": [
    {
     "data": {
      "image/png": "[encoded data removed]",
      "text/plain": [
       "<PIL.Image.Image image mode=RGB size=130x130 at 0x1DD940AEAC0>"
      ]
     },
     "execution_count": 205,
     "metadata": {},
     "output_type": "execute_result"
    }
   ],
   "source": [
    "my_image"
   ]
  },
  {
   "cell_type": "code",
   "execution_count": 206,
   "id": "113569af",
   "metadata": {},
   "outputs": [],
   "source": [
    "my_image_1 = image.load_img(my_image_1,target_size=image_shape)"
   ]
  },
  {
   "cell_type": "code",
   "execution_count": 207,
   "id": "16df4f63",
   "metadata": {},
   "outputs": [
    {
     "data": {
      "image/png": "[encoded data removed]",
      "text/plain": [
       "<PIL.Image.Image image mode=RGB size=130x130 at 0x1DD940DA940>"
      ]
     },
     "execution_count": 207,
     "metadata": {},
     "output_type": "execute_result"
    }
   ],
   "source": [
    "my_image_1"
   ]
  },
  {
   "cell_type": "code",
   "execution_count": 208,
   "id": "0d8f2ddf",
   "metadata": {},
   "outputs": [
    {
     "data": {
      "text/plain": [
       "PIL.Image.Image"
      ]
     },
     "execution_count": 208,
     "metadata": {},
     "output_type": "execute_result"
    }
   ],
   "source": [
    "type(my_image)"
   ]
  },
  {
   "cell_type": "code",
   "execution_count": 209,
   "id": "7e2c85b3",
   "metadata": {},
   "outputs": [],
   "source": [
    "my_image = image.img_to_array(my_image)"
   ]
  },
  {
   "cell_type": "code",
   "execution_count": 211,
   "id": "71699f7d",
   "metadata": {},
   "outputs": [
    {
     "data": {
      "text/plain": [
       "numpy.ndarray"
      ]
     },
     "execution_count": 211,
     "metadata": {},
     "output_type": "execute_result"
    }
   ],
   "source": [
    "type(my_image)"
   ]
  },
  {
   "cell_type": "code",
   "execution_count": 212,
   "id": "319c3f61",
   "metadata": {},
   "outputs": [
    {
     "data": {
      "text/plain": [
       "(130, 130, 3)"
      ]
     },
     "execution_count": 212,
     "metadata": {},
     "output_type": "execute_result"
    }
   ],
   "source": [
    "my_image.shape"
   ]
  },
  {
   "cell_type": "code",
   "execution_count": 213,
   "id": "0729a57c",
   "metadata": {},
   "outputs": [],
   "source": [
    "my_image = np.expand_dims(my_image, axis=0)"
   ]
  },
  {
   "cell_type": "code",
   "execution_count": 214,
   "id": "d9499bdd",
   "metadata": {},
   "outputs": [
    {
     "data": {
      "text/plain": [
       "(1, 130, 130, 3)"
      ]
     },
     "execution_count": 214,
     "metadata": {},
     "output_type": "execute_result"
    }
   ],
   "source": [
    "my_image.shape"
   ]
  },
  {
   "cell_type": "code",
   "execution_count": 215,
   "id": "2b8e64fc",
   "metadata": {},
   "outputs": [
    {
     "name": "stdout",
     "output_type": "stream",
     "text": [
      "1/1 [==============================] - 0s 52ms/step\n"
     ]
    },
    {
     "data": {
      "text/plain": [
       "array([[0.9930612]], dtype=float32)"
      ]
     },
     "execution_count": 215,
     "metadata": {},
     "output_type": "execute_result"
    }
   ],
   "source": [
    "prediction = model.predict(my_image)\n",
    "prediction"
   ]
  },
  {
   "cell_type": "code",
   "execution_count": 216,
   "id": "71b21bb5",
   "metadata": {},
   "outputs": [
    {
     "data": {
      "text/plain": [
       "{'parasitized': 0, 'uninfected': 1}"
      ]
     },
     "execution_count": 216,
     "metadata": {},
     "output_type": "execute_result"
    }
   ],
   "source": [
    "train_image_gen.class_indices"
   ]
  },
  {
   "cell_type": "code",
   "execution_count": 217,
   "id": "d5cb3a4e",
   "metadata": {},
   "outputs": [
    {
     "data": {
      "text/plain": [
       "{'parasitized': 0, 'uninfected': 1}"
      ]
     },
     "execution_count": 217,
     "metadata": {},
     "output_type": "execute_result"
    }
   ],
   "source": [
    "test_image_gen.class_indices"
   ]
  },
  {
   "cell_type": "code",
   "execution_count": 218,
   "id": "069835b4",
   "metadata": {},
   "outputs": [],
   "source": [
    "model.save('agada_malaria_detector.h5')"
   ]
  },
  {
   "cell_type": "code",
   "execution_count": 219,
   "id": "1ffefceb",
   "metadata": {},
   "outputs": [],
   "source": [
    "from tensorflow.keras.models import load_model"
   ]
  },
  {
   "cell_type": "code",
   "execution_count": 220,
   "id": "91c80895",
   "metadata": {},
   "outputs": [],
   "source": [
    "model = load_model('..\\model\\malaria_detector_model.h5')"
   ]
  },
  {
   "cell_type": "code",
   "execution_count": 221,
   "id": "654bf814",
   "metadata": {},
   "outputs": [
    {
     "name": "stdout",
     "output_type": "stream",
     "text": [
      "1/1 [==============================] - 0s 186ms/step\n"
     ]
    },
    {
     "data": {
      "text/plain": [
       "array([[0.9930612]], dtype=float32)"
      ]
     },
     "execution_count": 221,
     "metadata": {},
     "output_type": "execute_result"
    }
   ],
   "source": [
    "pred = model.predict(my_image)\n",
    "pred"
   ]
  },
  {
   "cell_type": "code",
   "execution_count": 222,
   "id": "39cd9246",
   "metadata": {},
   "outputs": [
    {
     "name": "stdout",
     "output_type": "stream",
     "text": [
      "1/1 [==============================] - 0s 41ms/step\n"
     ]
    },
    {
     "data": {
      "text/plain": [
       "array([[1]])"
      ]
     },
     "execution_count": 222,
     "metadata": {},
     "output_type": "execute_result"
    }
   ],
   "source": [
    "#class prediction using the model\n",
    "pred = (model.predict(my_image) > 0.5)*1\n",
    "pred"
   ]
  },
  {
   "cell_type": "code",
   "execution_count": 188,
   "id": "aa871a6a",
   "metadata": {},
   "outputs": [
    {
     "data": {
      "text/plain": [
       "0"
      ]
     },
     "execution_count": 188,
     "metadata": {},
     "output_type": "execute_result"
    }
   ],
   "source": [
    "np.argmax(pred[0], axis=-1)"
   ]
  },
  {
   "cell_type": "code",
   "execution_count": 135,
   "id": "9c544fc1",
   "metadata": {},
   "outputs": [
    {
     "data": {
      "text/plain": [
       "0"
      ]
     },
     "execution_count": 135,
     "metadata": {},
     "output_type": "execute_result"
    }
   ],
   "source": [
    "im_class"
   ]
  },
  {
   "cell_type": "code",
   "execution_count": 196,
   "id": "d28953a3",
   "metadata": {},
   "outputs": [],
   "source": [
    "my_image_1 = image.img_to_array(my_image_1)"
   ]
  },
  {
   "cell_type": "code",
   "execution_count": 197,
   "id": "0af58d34",
   "metadata": {},
   "outputs": [],
   "source": [
    "my_image_1 = np.expand_dims(my_image_1, axis=0)"
   ]
  },
  {
   "cell_type": "code",
   "execution_count": 198,
   "id": "0fd5d6a1",
   "metadata": {},
   "outputs": [
    {
     "name": "stdout",
     "output_type": "stream",
     "text": [
      "1/1 [==============================] - 0s 63ms/step\n"
     ]
    }
   ],
   "source": [
    "pred1=model.predict(my_image_1)"
   ]
  },
  {
   "cell_type": "code",
   "execution_count": 199,
   "id": "50c81a5b",
   "metadata": {},
   "outputs": [
    {
     "name": "stdout",
     "output_type": "stream",
     "text": [
      "1/1 [==============================] - 0s 48ms/step\n"
     ]
    },
    {
     "data": {
      "text/plain": [
       "array([[0.00014566]], dtype=float32)"
      ]
     },
     "execution_count": 199,
     "metadata": {},
     "output_type": "execute_result"
    }
   ],
   "source": [
    "prediction = model.predict(my_image_1)\n",
    "prediction"
   ]
  },
  {
   "cell_type": "code",
   "execution_count": 200,
   "id": "06168adc",
   "metadata": {},
   "outputs": [
    {
     "name": "stdout",
     "output_type": "stream",
     "text": [
      "1/1 [==============================] - 0s 44ms/step\n"
     ]
    },
    {
     "data": {
      "text/plain": [
       "array([[0]])"
      ]
     },
     "execution_count": 200,
     "metadata": {},
     "output_type": "execute_result"
    }
   ],
   "source": [
    "#class prediction using the model\n",
    "pred = (model.predict(my_image_1) > 0.5)*1\n",
    "pred"
   ]
  },
  {
   "cell_type": "code",
   "execution_count": 164,
   "id": "adbe3476",
   "metadata": {},
   "outputs": [
    {
     "data": {
      "text/plain": [
       "0"
      ]
     },
     "execution_count": 164,
     "metadata": {},
     "output_type": "execute_result"
    }
   ],
   "source": [
    "np.argmax(pred1, axis=1)[0]"
   ]
  },
  {
   "cell_type": "code",
   "execution_count": 165,
   "id": "5e8a74b7",
   "metadata": {},
   "outputs": [
    {
     "data": {
      "text/plain": [
       "0"
      ]
     },
     "execution_count": 165,
     "metadata": {},
     "output_type": "execute_result"
    }
   ],
   "source": [
    "np.argmax(pred, axis=1)[0]"
   ]
  },
  {
   "cell_type": "code",
   "execution_count": 225,
   "id": "38a6206d",
   "metadata": {},
   "outputs": [
    {
     "name": "stdout",
     "output_type": "stream",
     "text": [
      "1/1 [==============================] - 0s 45ms/step\n",
      "1/1 [==============================] - 0s 33ms/step\n"
     ]
    }
   ],
   "source": [
    "result = (model.predict(my_image), (model.predict(my_image) > 0.5)*1)"
   ]
  },
  {
   "cell_type": "code",
   "execution_count": 226,
   "id": "56295afe",
   "metadata": {},
   "outputs": [
    {
     "data": {
      "text/plain": [
       "(array([[0.9930612]], dtype=float32), array([[1]]))"
      ]
     },
     "execution_count": 226,
     "metadata": {},
     "output_type": "execute_result"
    }
   ],
   "source": [
    "result"
   ]
  },
  {
   "cell_type": "code",
   "execution_count": 229,
   "id": "6314ad46",
   "metadata": {},
   "outputs": [
    {
     "name": "stdout",
     "output_type": "stream",
     "text": [
      "0\n",
      "1\n"
     ]
    }
   ],
   "source": [
    "for i, res in enumerate(result):\n",
    "    print(i)"
   ]
  },
  {
   "cell_type": "code",
   "execution_count": null,
   "id": "dd6191fa",
   "metadata": {},
   "outputs": [],
   "source": []
  },
  {
   "cell_type": "code",
   "execution_count": null,
   "id": "6b56ca29",
   "metadata": {},
   "outputs": [],
   "source": []
  }
 ],
 "metadata": {
  "kernelspec": {
   "display_name": "Python 3 (ipykernel)",
   "language": "python",
   "name": "python3"
  },
  "language_info": {
   "codemirror_mode": {
    "name": "ipython",
    "version": 3
   },
   "file_extension": ".py",
   "mimetype": "text/x-python",
   "name": "python",
   "nbconvert_exporter": "python",
   "pygments_lexer": "ipython3",
   "version": "3.9.12"
  }
 },
 "nbformat": 4,
 "nbformat_minor": 5
}
